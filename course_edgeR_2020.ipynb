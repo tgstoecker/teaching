{
  "nbformat": 4,
  "nbformat_minor": 0,
  "metadata": {
    "colab": {
      "name": "course_edgeR_2020.ipynb",
      "provenance": [],
      "authorship_tag": "ABX9TyPTybAEh4GM+d/Bk8IynvOk",
      "include_colab_link": true
    },
    "kernelspec": {
      "name": "ir",
      "display_name": "R"
    }
  },
  "cells": [
    {
      "cell_type": "markdown",
      "metadata": {
        "id": "view-in-github",
        "colab_type": "text"
      },
      "source": [
        "<a href=\"https://colab.research.google.com/github/tgstoecker/teaching/blob/master/course_edgeR_2020.ipynb\" target=\"_parent\"><img src=\"https://colab.research.google.com/assets/colab-badge.svg\" alt=\"Open In Colab\"/></a>"
      ]
    },
    {
      "cell_type": "code",
      "metadata": {
        "id": "nA5023sAq-gd",
        "colab_type": "code",
        "colab": {}
      },
      "source": [
        "R.Version()"
      ],
      "execution_count": 0,
      "outputs": []
    },
    {
      "cell_type": "code",
      "metadata": {
        "colab_type": "code",
        "id": "NQkEiaUluM_7",
        "colab": {}
      },
      "source": [
        "install.packages(\"reshape2\", verbose = TRUE)\n",
        "install.packages(\"RColorBrewer\", verbose = TRUE)\n",
        "install.packages(\"ggplot2\", verbose = TRUE)\n",
        "install.packages(\"statmod\", verbose = TRUE)\n",
        "install.packages(\"gplots\", verbose = TRUE)\n",
        "install.packages(\"googledrive\", verbose = TRUE)"
      ],
      "execution_count": 0,
      "outputs": []
    },
    {
      "cell_type": "code",
      "metadata": {
        "id": "2WgWVyoGsML6",
        "colab_type": "code",
        "colab": {}
      },
      "source": [
        "BiocManager::install(version = \"3.9\", ask = FALSE)"
      ],
      "execution_count": 0,
      "outputs": []
    },
    {
      "cell_type": "code",
      "metadata": {
        "id": "faDzXvxPqMNr",
        "colab_type": "code",
        "colab": {}
      },
      "source": [
        "if (!requireNamespace(\"BiocManager\", quietly = TRUE))\n",
        "  install.packages(\"BiocManager\")\n",
        "BiocManager::install(\"limma\", version = \"3.9\")\n",
        "\n",
        "if (!requireNamespace(\"BiocManager\", quietly = TRUE))\n",
        "  install.packages(\"BiocManager\")\n",
        "BiocManager::install(\"edgeR\", version = \"3.9\")"
      ],
      "execution_count": 0,
      "outputs": []
    },
    {
      "cell_type": "code",
      "metadata": {
        "id": "9PolFJMIuaQz",
        "colab_type": "code",
        "colab": {}
      },
      "source": [
        "library(reshape2)\n",
        "library(limma)\n",
        "library(edgeR)\n",
        "library(ggplot2)\n",
        "library(RColorBrewer)\n",
        "library(gplots)\n",
        "library(statmod)"
      ],
      "execution_count": 0,
      "outputs": []
    },
    {
      "cell_type": "code",
      "metadata": {
        "id": "RxznGe4g5p85",
        "colab_type": "code",
        "colab": {}
      },
      "source": [
        "counts <- \"https://raw.githubusercontent.com/tgstoecker/teaching/master/total_file.count\"\n",
        "fc_res <- read.table(counts, header = T, row.names = 1)\n",
        "head(fc_res)"
      ],
      "execution_count": 0,
      "outputs": []
    },
    {
      "cell_type": "code",
      "metadata": {
        "id": "Tg2tgCzH8EQq",
        "colab_type": "code",
        "colab": {
          "base_uri": "https://localhost:8080/",
          "height": 437
        },
        "outputId": "9cf15040-4c5e-420d-9e23-8612ad55d8c9"
      },
      "source": [
        "ggplot(fc_res, aes(x = B73_con_1_trimmed_sorted.bam)) + \n",
        "  geom_histogram(binwidth = 2000)"
      ],
      "execution_count": 53,
      "outputs": [
        {
          "output_type": "display_data",
          "data": {
            "image/png": "[encoded data removed]",
            "text/plain": [
              "plot without title"
            ]
          },
          "metadata": {
            "tags": [],
            "image/png": {
              "width": 420,
              "height": 420
            },
            "text/plain": {
              "width": 420,
              "height": 420
            }
          }
        }
      ]
    }
  ]
}