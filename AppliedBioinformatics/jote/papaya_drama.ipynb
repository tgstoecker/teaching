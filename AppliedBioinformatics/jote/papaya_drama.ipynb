{
  "nbformat": 4,
  "nbformat_minor": 0,
  "metadata": {
    "colab": {
      "name": "Applied_Bioinformatics_exam_2021_SoSe.ipynb",
      "provenance": [],
      "collapsed_sections": [
        "SbsFMIx0LzvD",
        "3rIx2nY6MBAd",
        "_FgUK1fLMqMc"
      ],
      "toc_visible": true,
      "include_colab_link": true
    },
    "kernelspec": {
      "name": "ir",
      "display_name": "R"
    }
  },
  "cells": [
    {
      "cell_type": "markdown",
      "metadata": {
        "id": "ZFeJGXGL4jZh"
      },
      "source": [
        "# Welcome to this year's R/jupyter part of the Applied Bioinformatics exam"
      ]
    },
    {
      "cell_type": "markdown",
      "metadata": {
        "id": "gvADVh0zJT8l"
      },
      "source": [
        "The dataset for this year's exam is a featureCounts output table from an experiment comparing a Ecuadorian papaya genotype with a genotype from the Philippines.  \n",
        "The following cells will perform the installation and general differential expression analysis for you.  \n",
        "Your task is to filter the results according to the cutoffs specified in the related questions on ecampus."
      ]
    },
    {
      "cell_type": "markdown",
      "metadata": {
        "id": "SbsFMIx0LzvD"
      },
      "source": [
        "# Run these commands before you start the exam on ecampus!"
      ]
    },
    {
      "cell_type": "code",
      "metadata": {
        "id": "-AcuokxB40js"
      },
      "source": [
        "install.packages(\"reshape2\", verbose = TRUE)\n",
        "install.packages(\"ggplot2\", verbose = TRUE)\n",
        "install.packages(\"statmod\", verbose = TRUE)\n",
        "install.packages(\"gplots\", verbose = TRUE)\n",
        "install.packages(\"BiocManager\", verbose = TRUE)\n",
        "if (!requireNamespace(\"BiocManager\", quietly = TRUE))\n",
        "  install.packages(\"BiocManager\")\n",
        "BiocManager::install(\"limma\")\n",
        "BiocManager::install(\"edgeR\")"
      ],
      "execution_count": null,
      "outputs": []
    },
    {
      "cell_type": "code",
      "metadata": {
        "id": "Ej2JTHo040nG"
      },
      "source": [
        "library(reshape2)\n",
        "library(limma)\n",
        "library(edgeR)\n",
        "library(ggplot2)\n",
        "library(gplots)\n",
        "library(statmod)"
      ],
      "execution_count": null,
      "outputs": []
    },
    {
      "cell_type": "markdown",
      "metadata": {
        "id": "3rIx2nY6MBAd"
      },
      "source": [
        "# Perform these initial steps to perform differential expression analysis as preparation for the questions"
      ]
    },
    {
      "cell_type": "code",
      "metadata": {
        "id": "Dy1QRhoh1vID"
      },
      "source": [
        "counts <- \"https://raw.githubusercontent.com/tgstoecker/teaching/master/AppliedBioinformatics/jote/papaya_genotypes.txt\"\n",
        "fc_res <- read.table(counts, header = T, row.names = 1)\n",
        "colnames(fc_res) <- sub(\".dedup.bam\", \"\", colnames(fc_res))\n",
        "colnames(fc_res) <- sub(\"removed_duplicates_alignments.\", \"\", colnames(fc_res))\n",
        "group = c(\"filipino\", \"filipino\", \"filipino\", \"ecuadorian\", \"ecuadorian\", \"ecuadorian\")"
      ],
      "execution_count": null,
      "outputs": []
    },
    {
      "cell_type": "markdown",
      "metadata": {
        "id": "wCJMEcKwXnXt"
      },
      "source": [
        "*Samples W4, W5 and W6\tare three replicates of the papaya genotype from Ecuador.  \n",
        "W1, W2, W3 are three replicates of the papaya genotype from the Philippines.*"
      ]
    },
    {
      "cell_type": "code",
      "metadata": {
        "id": "-GIB85kn2OIC"
      },
      "source": [
        "# create a DGE list object - the core of using edgeR\n",
        "# For our purposes the DGEList-object should contain matrixes/dataframes of raw counts, group/treatment info as well as gene names \n",
        "dge = DGEList(counts = fc_res[, 6:11], group = group, genes = rownames(fc_res))"
      ],
      "execution_count": null,
      "outputs": []
    },
    {
      "cell_type": "code",
      "metadata": {
        "id": "4BwYMXP14TE8"
      },
      "source": [
        "design <- model.matrix(~0+group)"
      ],
      "execution_count": null,
      "outputs": []
    },
    {
      "cell_type": "code",
      "metadata": {
        "id": "ZWBTXHZ81Tk5"
      },
      "source": [
        "keep <- filterByExpr(dge, design)\n",
        "dge_filtered <- dge[keep, , keep.lib.sizes=FALSE]"
      ],
      "execution_count": null,
      "outputs": []
    },
    {
      "cell_type": "code",
      "metadata": {
        "id": "z8YcgeYG1wpa"
      },
      "source": [
        "dge_normalized <- calcNormFactors(dge_filtered, method = \"TMM\")"
      ],
      "execution_count": null,
      "outputs": []
    },
    {
      "cell_type": "code",
      "metadata": {
        "id": "RJ3lUSPx1wrx"
      },
      "source": [
        "#All 3 dispersion estimates can easily be obtained from the estimateDisp function in one command:\n",
        "dge_disp <- estimateDisp(dge_normalized, design, robust=TRUE)"
      ],
      "execution_count": null,
      "outputs": []
    },
    {
      "cell_type": "code",
      "metadata": {
        "id": "RwLmfY_z1wu4"
      },
      "source": [
        "#The estimation of QL dispersions is performed using the glmQLFit function:\n",
        "fit <- glmQLFit(dge_disp, design, robust=TRUE)"
      ],
      "execution_count": null,
      "outputs": []
    },
    {
      "cell_type": "code",
      "metadata": {
        "id": "0hv68EBh2DDe"
      },
      "source": [
        "# For this we can make use of limma's convenient makeContrasts function:\n",
        "FvsE <- makeContrasts(groupfilipino-groupecuadorian, levels=design)\n",
        "\n",
        "#In subsequent results, a positive log2-fold-change (logFC) will indicate a gene up-regulated in the filipino papaya genotype compared to the ecuadorian papaya genotype, \n",
        "#whereas a negative logFC will indicate a gene more highly expressed in the ecuadorian genotype.\n",
        "\n",
        "#EdgeR offers two main kinds of tests - QL F-tests and likelihood ratio tests (LRT).\n",
        "#We will use the former as they perform stricter error control by accounting for the uncertainty in dispersion estimation:\n",
        "res <- glmQLFTest(fit, contrast=FvsE)"
      ],
      "execution_count": null,
      "outputs": []
    },
    {
      "cell_type": "markdown",
      "metadata": {
        "id": "_FgUK1fLMqMc"
      },
      "source": [
        "# Use the created \"res\" object to answer the \"Applying thresholds\" question on ecampus:"
      ]
    },
    {
      "cell_type": "code",
      "metadata": {
        "id": "IznK3YFY7mQd"
      },
      "source": [
        ""
      ],
      "execution_count": null,
      "outputs": []
    },
    {
      "cell_type": "code",
      "metadata": {
        "id": "jGdsbohxI05X"
      },
      "source": [
        ""
      ],
      "execution_count": null,
      "outputs": []
    },
    {
      "cell_type": "code",
      "metadata": {
        "id": "GGiCc3zlI08N"
      },
      "source": [
        ""
      ],
      "execution_count": null,
      "outputs": []
    },
    {
      "cell_type": "code",
      "metadata": {
        "id": "JKfoBJ99I0-2"
      },
      "source": [
        ""
      ],
      "execution_count": null,
      "outputs": []
    },
    {
      "cell_type": "code",
      "metadata": {
        "id": "Brt_iIKnI1BA"
      },
      "source": [
        ""
      ],
      "execution_count": null,
      "outputs": []
    },
    {
      "cell_type": "code",
      "metadata": {
        "id": "IBJkJ6vc7mO1"
      },
      "source": [
        ""
      ],
      "execution_count": null,
      "outputs": []
    },
    {
      "cell_type": "code",
      "metadata": {
        "id": "Tb-MhQlm7mGz"
      },
      "source": [
        ""
      ],
      "execution_count": null,
      "outputs": []
    },
    {
      "cell_type": "code",
      "metadata": {
        "id": "2iXomWE-7l_h"
      },
      "source": [
        ""
      ],
      "execution_count": null,
      "outputs": []
    }
  ]
}
