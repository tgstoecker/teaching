{
  "nbformat": 4,
  "nbformat_minor": 0,
  "metadata": {
    "colab": {
      "name": "GeneCountsVenn2021.ipynb",
      "provenance": [],
      "collapsed_sections": [
        "6VNLfQEeXd7r",
        "-pxPv-qCaW66",
        "n20ghAURcdJL"
      ],
      "toc_visible": true,
      "authorship_tag": "ABX9TyOgVsXppL5IyPZb3RVfi2QM",
      "include_colab_link": true
    },
    "kernelspec": {
      "name": "ir",
      "display_name": "R"
    }
  },
  "cells": [
    {
      "cell_type": "markdown",
      "metadata": {
        "id": "view-in-github",
        "colab_type": "text"
      },
      "source": [
        "<a href=\"https://colab.research.google.com/github/tgstoecker/teaching/blob/master/AppliedBioinformatics/Notebooks/GeneCountsVenn2021.ipynb\" target=\"_parent\"><img src=\"https://colab.research.google.com/assets/colab-badge.svg\" alt=\"Open In Colab\"/></a>"
      ]
    },
    {
      "cell_type": "markdown",
      "metadata": {
        "id": "9IBD9Pt4WTuB"
      },
      "source": [
        "#Venn Diagrammes - the power of set theory"
      ]
    },
    {
      "cell_type": "markdown",
      "metadata": {
        "id": "GC9Na1HEWPOc"
      },
      "source": [
        "##Installation of necessary R packages"
      ]
    },
    {
      "cell_type": "code",
      "metadata": {
        "id": "6qzcINTZ3jRc",
        "colab": {
          "base_uri": "https://localhost:8080/",
          "height": 0
        },
        "outputId": "893621a7-77f7-43c2-c8d3-bca0fd493530"
      },
      "source": [
        "R.Version()\n",
        "\n",
        "install.packages(\"BiocManager\", verbose = TRUE)\n",
        "BiocManager::install(ask = FALSE)\n",
        "BiocManager::install(\"limma\")\n",
        "BiocManager::install(\"edgeR\")\n",
        "\n",
        "# install the VennDiagramme package - you need to do this only once\n",
        "install.packages(\"VennDiagram\")\n",
        "\n"
      ],
      "execution_count": null,
      "outputs": [
        {
          "output_type": "display_data",
          "data": {
            "text/plain": [
              "$platform\n",
              "[1] \"x86_64-pc-linux-gnu\"\n",
              "\n",
              "$arch\n",
              "[1] \"x86_64\"\n",
              "\n",
              "$os\n",
              "[1] \"linux-gnu\"\n",
              "\n",
              "$system\n",
              "[1] \"x86_64, linux-gnu\"\n",
              "\n",
              "$status\n",
              "[1] \"\"\n",
              "\n",
              "$major\n",
              "[1] \"4\"\n",
              "\n",
              "$minor\n",
              "[1] \"0.3\"\n",
              "\n",
              "$year\n",
              "[1] \"2020\"\n",
              "\n",
              "$month\n",
              "[1] \"10\"\n",
              "\n",
              "$day\n",
              "[1] \"10\"\n",
              "\n",
              "$`svn rev`\n",
              "[1] \"79318\"\n",
              "\n",
              "$language\n",
              "[1] \"R\"\n",
              "\n",
              "$version.string\n",
              "[1] \"R version 4.0.3 (2020-10-10)\"\n",
              "\n",
              "$nickname\n",
              "[1] \"Bunny-Wunnies Freak Out\"\n"
            ],
            "text/latex": "\\begin{description}\n\\item[\\$platform] 'x86\\_64-pc-linux-gnu'\n\\item[\\$arch] 'x86\\_64'\n\\item[\\$os] 'linux-gnu'\n\\item[\\$system] 'x86\\_64, linux-gnu'\n\\item[\\$status] ''\n\\item[\\$major] '4'\n\\item[\\$minor] '0.3'\n\\item[\\$year] '2020'\n\\item[\\$month] '10'\n\\item[\\$day] '10'\n\\item[\\$`svn rev`] '79318'\n\\item[\\$language] 'R'\n\\item[\\$version.string] 'R version 4.0.3 (2020-10-10)'\n\\item[\\$nickname] 'Bunny-Wunnies Freak Out'\n\\end{description}\n",
            "text/markdown": "$platform\n:   'x86_64-pc-linux-gnu'\n$arch\n:   'x86_64'\n$os\n:   'linux-gnu'\n$system\n:   'x86_64, linux-gnu'\n$status\n:   ''\n$major\n:   '4'\n$minor\n:   '0.3'\n$year\n:   '2020'\n$month\n:   '10'\n$day\n:   '10'\n$`svn rev`\n:   '79318'\n$language\n:   'R'\n$version.string\n:   'R version 4.0.3 (2020-10-10)'\n$nickname\n:   'Bunny-Wunnies Freak Out'\n\n\n",
            "text/html": [
              "<dl>\n",
              "\t<dt>$platform</dt>\n",
              "\t\t<dd>'x86_64-pc-linux-gnu'</dd>\n",
              "\t<dt>$arch</dt>\n",
              "\t\t<dd>'x86_64'</dd>\n",
              "\t<dt>$os</dt>\n",
              "\t\t<dd>'linux-gnu'</dd>\n",
              "\t<dt>$system</dt>\n",
              "\t\t<dd>'x86_64, linux-gnu'</dd>\n",
              "\t<dt>$status</dt>\n",
              "\t\t<dd>''</dd>\n",
              "\t<dt>$major</dt>\n",
              "\t\t<dd>'4'</dd>\n",
              "\t<dt>$minor</dt>\n",
              "\t\t<dd>'0.3'</dd>\n",
              "\t<dt>$year</dt>\n",
              "\t\t<dd>'2020'</dd>\n",
              "\t<dt>$month</dt>\n",
              "\t\t<dd>'10'</dd>\n",
              "\t<dt>$day</dt>\n",
              "\t\t<dd>'10'</dd>\n",
              "\t<dt>$`svn rev`</dt>\n",
              "\t\t<dd>'79318'</dd>\n",
              "\t<dt>$language</dt>\n",
              "\t\t<dd>'R'</dd>\n",
              "\t<dt>$version.string</dt>\n",
              "\t\t<dd>'R version 4.0.3 (2020-10-10)'</dd>\n",
              "\t<dt>$nickname</dt>\n",
              "\t\t<dd>'Bunny-Wunnies Freak Out'</dd>\n",
              "</dl>\n"
            ]
          },
          "metadata": {
            "tags": []
          }
        },
        {
          "output_type": "stream",
          "text": [
            "Installing package into ‘/usr/local/lib/R/site-library’\n",
            "(as ‘lib’ is unspecified)\n",
            "\n",
            "system (cmd0): /usr/lib/R/bin/R CMD INSTALL\n",
            "\n",
            "foundpkgs: BiocManager, /tmp/RtmpgcPhmP/downloaded_packages/BiocManager_1.30.10.tar.gz\n",
            "\n",
            "files: /tmp/RtmpgcPhmP/downloaded_packages/BiocManager_1.30.10.tar.gz\n",
            "\n",
            "1): succeeded '/usr/lib/R/bin/R CMD INSTALL -l '/usr/local/lib/R/site-library' '/tmp/RtmpgcPhmP/downloaded_packages/BiocManager_1.30.10.tar.gz''\n",
            "\n",
            "Bioconductor version 3.12 (BiocManager 1.30.10), R 4.0.3 (2020-10-10)\n",
            "\n",
            "Installing package(s) 'BiocVersion'\n",
            "\n",
            "Old packages: 'cachem', 'gert', 'lifecycle', 'mime', 'promises', 'testthat',\n",
            "  'usethis', 'waldo', 'xfun', 'boot', 'cluster', 'MASS'\n",
            "\n"
          ],
          "name": "stderr"
        }
      ]
    },
    {
      "cell_type": "markdown",
      "metadata": {
        "id": "uMuu-E5AXSz6"
      },
      "source": [
        "## Load all required packages\n"
      ]
    },
    {
      "cell_type": "code",
      "metadata": {
        "id": "u_wwXh943kkW"
      },
      "source": [
        "library(limma)\n",
        "library(edgeR)\n",
        "library(VennDiagram)"
      ],
      "execution_count": null,
      "outputs": []
    },
    {
      "cell_type": "markdown",
      "metadata": {
        "id": "VOxFmge4ZW3O"
      },
      "source": [
        "##Quick & easy data handing"
      ]
    },
    {
      "cell_type": "markdown",
      "metadata": {
        "id": "AObjdYYMXUki"
      },
      "source": [
        "Read in the results - the count matrix of ALL 4 maize lines:"
      ]
    },
    {
      "cell_type": "code",
      "metadata": {
        "id": "-OFVF5U03kq5"
      },
      "source": [
        "# row.names = 1 results in GeneIDs as rownames\n",
        "counts <- \"https://raw.githubusercontent.com/tgstoecker/teaching/master/AppliedBioinformatics/gene-level_ALL/total_file.count\"\n",
        "fc_res_all <- read.table(counts, header = T, row.names = 1)"
      ],
      "execution_count": null,
      "outputs": []
    },
    {
      "cell_type": "markdown",
      "metadata": {
        "id": "Qf50bEEaXVdY"
      },
      "source": [
        "Check the names of your columns:\n"
      ]
    },
    {
      "cell_type": "code",
      "metadata": {
        "id": "x_04zLeUTut4"
      },
      "source": [
        "colnames(fc_res_all)"
      ],
      "execution_count": null,
      "outputs": []
    },
    {
      "cell_type": "markdown",
      "metadata": {
        "id": "X3hqSVoiXXg-"
      },
      "source": [
        "Shorten the column names indicating the samples - e.g.:\n"
      ]
    },
    {
      "cell_type": "code",
      "metadata": {
        "id": "onyRvR3PWSfB"
      },
      "source": [
        "colnames(fc_res_all) <- sub(\"_trimmed_sorted.bam\", \"\", colnames(fc_res_all))"
      ],
      "execution_count": null,
      "outputs": []
    },
    {
      "cell_type": "markdown",
      "metadata": {
        "id": "oHUedlLnXYMQ"
      },
      "source": [
        "Create a vector indicating treatment conditions of the samples -  \n",
        "logic: columns left to right\n"
      ]
    },
    {
      "cell_type": "code",
      "metadata": {
        "id": "jrkCvF4qWSlX"
      },
      "source": [
        "group_all = c(\"B73_control\", \"B73_control\", \"B73_control\", \"B73_control\", \"B73_drought\", \"B73_drought\", \"B73_drought\", \"B73_drought\",\n",
        "              \"Mo17_control\", \"Mo17_control\", \"Mo17_control\", \"Mo17_control\", \"Mo17_drought\", \"Mo17_drought\", \"Mo17_drought\", \"Mo17_drought\",\n",
        "              \"MxB_control\", \"MxB_control\", \"MxB_control\", \"MxB_control\", \"MxB_drought\", \"MxB_drought\", \"MxB_drought\", \"MxB_drought\",\n",
        "              \"BxM_control\", \"BxM_control\", \"BxM_control\", \"BxM_control\", \"BxM_drought\", \"BxM_drought\", \"BxM_drought\", \"BxM_drought\")\n",
        "group_all"
      ],
      "execution_count": null,
      "outputs": []
    },
    {
      "cell_type": "markdown",
      "metadata": {
        "id": "sJ7lEvlVXYwH"
      },
      "source": [
        "Create a DGE list object:"
      ]
    },
    {
      "cell_type": "code",
      "metadata": {
        "id": "PLd3O7e_WSqh"
      },
      "source": [
        "#For our purposes the DGEList-object should contain matrixes/dataframes of raw counts, group/treatment info as well as gene names \n",
        "dge_all = DGEList(counts = fc_res_all[, 6:37], group = group_all)"
      ],
      "execution_count": null,
      "outputs": []
    },
    {
      "cell_type": "markdown",
      "metadata": {
        "id": "5jaocozTXZaR"
      },
      "source": [
        "Creating the design matrix:\n"
      ]
    },
    {
      "cell_type": "code",
      "metadata": {
        "id": "AL1r2SrdWSj3"
      },
      "source": [
        "design_all <- model.matrix(~0+group_all)\n",
        "design_all"
      ],
      "execution_count": null,
      "outputs": []
    },
    {
      "cell_type": "code",
      "metadata": {
        "id": "iK-EDlVcWdn-"
      },
      "source": [
        "# check the column names - these should be your groups of interest\n",
        "colnames(design_all)\n",
        "#let's improve that a bit\n",
        "colnames(design_all) <- sub(\"group_all\", \"\", colnames(design_all))\n",
        "colnames(design_all)"
      ],
      "execution_count": null,
      "outputs": []
    },
    {
      "cell_type": "markdown",
      "metadata": {
        "id": "qb5A-ONFXbjh"
      },
      "source": [
        "Perform the filtering of the DGEList-object:\n"
      ]
    },
    {
      "cell_type": "code",
      "metadata": {
        "id": "NITOs8LjWdrR"
      },
      "source": [
        "keep <- filterByExpr(dge_all, design_all)\n",
        "dge_all <- dge_all[keep, , keep.lib.sizes=FALSE]\n",
        "dim(dge_all)"
      ],
      "execution_count": null,
      "outputs": []
    },
    {
      "cell_type": "markdown",
      "metadata": {
        "id": "Kfz8VYdnXc3J"
      },
      "source": [
        "Perform normalization:"
      ]
    },
    {
      "cell_type": "code",
      "metadata": {
        "id": "l9Zzhq9lWdxd"
      },
      "source": [
        "dge_all <- calcNormFactors(dge_all, method = \"TMM\")"
      ],
      "execution_count": null,
      "outputs": []
    },
    {
      "cell_type": "markdown",
      "metadata": {
        "id": "6VNLfQEeXd7r"
      },
      "source": [
        "##Quick foray back to MDS plots - this time truly useful"
      ]
    },
    {
      "cell_type": "markdown",
      "metadata": {
        "id": "vdW8ltgjZldn"
      },
      "source": [
        "Let's check out a MDS plot, since this time around the dataset is much more reasonable for such a visualization.  \n",
        "We should get a plot very similar to Figure 1A of the Hochholdinger publication - compare:"
      ]
    },
    {
      "cell_type": "code",
      "metadata": {
        "id": "poE778gqWnAo"
      },
      "source": [
        "pch <- c(0, 3, 7, 11, 14, 17, 21, 25, 29, 33)\n",
        "colors <- rep(c(\"blue\", \"red\", \"green\", \"black\", \"violet\", \"yellow\", \"brown\", \"grey\"))\n",
        "plotMDS(dge_all, col = colors[dge_all$samples$group], pch = pch[dge_all$samples$group])\n",
        "legend(\"topright\", legend=levels(dge_all$samples$group), pch=pch, col=colors, ncol=1)"
      ],
      "execution_count": null,
      "outputs": []
    },
    {
      "cell_type": "markdown",
      "metadata": {
        "id": "-pxPv-qCaW66"
      },
      "source": [
        "##Venn diagrammes "
      ]
    },
    {
      "cell_type": "markdown",
      "metadata": {
        "id": "r_ShL2tWXfDZ"
      },
      "source": [
        "Before we start we first choose a set of genes which pass an expression threshold (shown here is quick and dirty example good enough for demonstration purposes).\n"
      ]
    },
    {
      "cell_type": "markdown",
      "metadata": {
        "id": "ax6qc1MBbCle"
      },
      "source": [
        "1. Manual transformation of our DGEList object into log scale CPM values\n"
      ]
    },
    {
      "cell_type": "code",
      "metadata": {
        "id": "3WeKgO4qWnGL"
      },
      "source": [
        "lcpm <- cpm(dge_all, log=TRUE, normalized.lib.sizes =TRUE)"
      ],
      "execution_count": null,
      "outputs": []
    },
    {
      "cell_type": "markdown",
      "metadata": {
        "id": "_9gDfL8ybJSB"
      },
      "source": [
        "2. Let's create a reasonable lcpm cutoff\n"
      ]
    },
    {
      "cell_type": "code",
      "metadata": {
        "id": "o0fEjKkabKuD"
      },
      "source": [
        "L <- mean(dge_all$samples$lib.size) * 1e-6\n",
        "M <- median(dge_all$samples$lib.size) * 1e-6\n",
        "c(L, M)\n",
        "lcpm.cutoff <- log2(10/M + 2/L)\n",
        "summary(lcpm)\n",
        "colnames(lcpm)"
      ],
      "execution_count": null,
      "outputs": []
    },
    {
      "cell_type": "markdown",
      "metadata": {
        "id": "KQFMUknKXf8m"
      },
      "source": [
        "3. For each of our 4 lines and conditions we now extract the corresponding columns, calculate means per row and retain those over the threshold -> also, check your colnames/the corresponding index number"
      ]
    },
    {
      "cell_type": "code",
      "metadata": {
        "id": "SB8vUoQiW8uG"
      },
      "source": [
        "#control treatment data\n",
        "B73_set.control <- lcpm[, 1:4]\n",
        "B73_genes_ov_cutoff.control <- rownames(data.frame(subset(B73_set.control, rowMeans(B73_set.control) > lcpm.cutoff)))\n",
        "\n",
        "Mo17_set.control <- lcpm[, 9:12]\n",
        "Mo17_genes_ov_cutoff.control <- rownames(data.frame(subset(Mo17_set.control, rowMeans(Mo17_set.control) > lcpm.cutoff)))\n",
        "\n",
        "MxB_set.control <- lcpm[, 17:20]\n",
        "MxB_genes_ov_cutoff.control <- rownames(data.frame(subset(MxB_set.control, rowMeans(MxB_set.control) > lcpm.cutoff)))\n",
        "\n",
        "BxM_set.control <- lcpm[, 25:28]\n",
        "BxM_genes_ov_cutoff.control <- rownames(data.frame(subset(BxM_set.control, rowMeans(BxM_set.control) > lcpm.cutoff)))\n",
        "\n",
        "###\n",
        "##drought treatment data\n",
        "B73_set.drought <- lcpm[, 5:8]\n",
        "B73_genes_ov_cutoff.drought <- rownames(data.frame(subset(B73_set.drought, rowMeans(B73_set.drought) > lcpm.cutoff)))\n",
        "\n",
        "Mo17_set.drought <- lcpm[, 13:16]\n",
        "Mo17_genes_ov_cutoff.drought <- rownames(data.frame(subset(Mo17_set.drought, rowMeans(Mo17_set.drought) > lcpm.cutoff)))\n",
        "\n",
        "MxB_set.drought <- lcpm[, 21:24]\n",
        "MxB_genes_ov_cutoff.drought <- rownames(data.frame(subset(MxB_set.drought, rowMeans(MxB_set.drought) > lcpm.cutoff)))\n",
        "\n",
        "BxM_set.drought <- lcpm[, 29:32]\n",
        "BxM_genes_ov_cutoff.drought <- rownames(data.frame(subset(BxM_set.drought, rowMeans(BxM_set.drought) > lcpm.cutoff)))"
      ],
      "execution_count": null,
      "outputs": []
    },
    {
      "cell_type": "markdown",
      "metadata": {
        "id": "yds88zD5YCuC"
      },
      "source": [
        "*The final goal will be to create a four way venn diagramme of all expressed genes in the control samples*"
      ]
    },
    {
      "cell_type": "markdown",
      "metadata": {
        "id": "n5raoRLtbyyM"
      },
      "source": [
        "But first let's draw venn diagram of the genes expressed in B73 control vs. B73 drought:"
      ]
    },
    {
      "cell_type": "code",
      "metadata": {
        "id": "QLhgClDzW9Vw"
      },
      "source": [
        "# build the intersection\n",
        "B73_control_drought <- intersect(B73_genes_ov_cutoff.control, B73_genes_ov_cutoff.drought) # build the intersection\n",
        "draw.pairwise.venn(area1=length(B73_genes_ov_cutoff.control), area2=length(B73_genes_ov_cutoff.drought), cross.area=length(B73_control_drought))"
      ],
      "execution_count": null,
      "outputs": []
    },
    {
      "cell_type": "code",
      "metadata": {
        "id": "hVZVq0PGW9Y8"
      },
      "source": [
        "# draw venn diagram of the genes expressed in B73 control vs. Mo17 control\n",
        "# build the intersection\n",
        "B73_Mo17_control <- intersect(B73_genes_ov_cutoff.control, Mo17_genes_ov_cutoff.control) \n",
        "draw.pairwise.venn(area1=length(B73_genes_ov_cutoff.control), area2=length(Mo17_genes_ov_cutoff.control), cross.area=length(B73_Mo17_control))"
      ],
      "execution_count": null,
      "outputs": []
    },
    {
      "cell_type": "code",
      "metadata": {
        "id": "tqwf-dzlk6pN"
      },
      "source": [
        "### Now we want to draw a FOUR way venn diagram of the control samples of all four genotypes\n",
        "# have a look at the command and options\n",
        "?draw.quad.venn\n",
        "\n",
        "\n",
        "#### Step 1: build pair wise intersections of the control samples ####\n",
        "B73_Mo17_intersect <- intersect(B73_genes_ov_cutoff.control, Mo17_genes_ov_cutoff.control)\n",
        "\n",
        "\n",
        "\n",
        "#### add the commands to build the other 5 pair wise intersections of the control samples ####\n",
        "\n",
        "\n",
        "\n",
        "#### Step 2: build tripple intersections ####\n",
        "B73_Mo17_MxB_intersect <- intersect(B73_Mo17_intersect, MxB_genes_ov_cutoff.control)\n",
        "\n",
        "\n",
        "\n",
        "\n",
        "#### add the commands to build the other 3 tripple intersections of the control samples ####\n",
        "\n",
        "\n",
        "\n",
        "#### Step 4: Add the command to build the one four way intersection of the control samples ####\n",
        "\n",
        "#### use the 'draw.quad.venn' function from the 'VennDiagram' package to plot a four way venn diagram ####\n",
        "#### use the 'category' option to label the sets appropriately ####\n",
        "#### use the 'col' and/or 'fill' options to colour the sets ####\n",
        "draw.quad.venn()\n",
        "\n",
        "\n",
        "\n"
      ],
      "execution_count": null,
      "outputs": []
    },
    {
      "cell_type": "markdown",
      "metadata": {
        "id": "n20ghAURcdJL"
      },
      "source": [
        "#BONUS: "
      ]
    },
    {
      "cell_type": "markdown",
      "metadata": {
        "id": "vOIWxt51cZpT"
      },
      "source": [
        "If you have time:\n",
        "1. Plot a 4 way venn diagramme for drought treatment  \n",
        "\n",
        "2. Use the 'union' function to generate a list of all gene expressed in any of the four samples  \n",
        "\n",
        "3. Use the 'setdiff' function to generate lists of the genes exclusively expressed in each sample:  \n",
        "- only B73  \n",
        "- only Mo17  \n",
        "- only MxB  \n",
        "- only BxM  "
      ]
    }
  ]
}