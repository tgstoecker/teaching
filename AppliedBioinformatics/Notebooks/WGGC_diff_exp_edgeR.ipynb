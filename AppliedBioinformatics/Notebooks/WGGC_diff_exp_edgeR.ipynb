{
  "nbformat": 4,
  "nbformat_minor": 0,
  "metadata": {
    "colab": {
      "name": "WGGC_diff_exp_edgeR.ipynb",
      "provenance": [],
      "collapsed_sections": [
        "3k-tgq3OuUuj",
        "zUfGXSdgvn8l",
        "7ql6Y5qJwwED",
        "Fr1NK22VU9ek",
        "M1OFp4IY2gsU",
        "ZmEUJb-CW0Xd",
        "POTsr8VPW8GU",
        "68LCNsCyZcvn",
        "HziiMSS5bZYB",
        "GNs5w3BmePq2",
        "l1Y4NA2m41ra",
        "_-Ib89Z_51mR",
        "fwK9KT7yf6Bf",
        "6YGWGYPbgCy5",
        "T2l72X7ugcJl",
        "7HHEonc5zidk",
        "dxxm3rgAWfSm"
      ],
      "toc_visible": true,
      "authorship_tag": "ABX9TyN3n+ttRoDhX0ucHQYIHxbS",
      "include_colab_link": true
    },
    "kernelspec": {
      "name": "ir",
      "display_name": "R"
    }
  },
  "cells": [
    {
      "cell_type": "markdown",
      "metadata": {
        "id": "view-in-github",
        "colab_type": "text"
      },
      "source": [
        "<a href=\"https://colab.research.google.com/github/tgstoecker/teaching/blob/master/AppliedBioinformatics/Notebooks/WGGC_diff_exp_edgeR.ipynb\" target=\"_parent\"><img src=\"https://colab.research.google.com/assets/colab-badge.svg\" alt=\"Open In Colab\"/></a>"
      ]
    },
    {
      "cell_type": "markdown",
      "metadata": {
        "id": "3k-tgq3OuUuj"
      },
      "source": [
        "# Differential Expression Analysis"
      ]
    },
    {
      "cell_type": "code",
      "metadata": {
        "id": "nA5023sAq-gd"
      },
      "source": [
        "R.Version()"
      ],
      "execution_count": null,
      "outputs": []
    },
    {
      "cell_type": "markdown",
      "metadata": {
        "id": "zUfGXSdgvn8l"
      },
      "source": [
        "##Installation of necessary R packages"
      ]
    },
    {
      "cell_type": "code",
      "metadata": {
        "id": "NQkEiaUluM_7"
      },
      "source": [
        "install.packages(\"reshape2\", verbose = TRUE)\n",
        "install.packages(\"RColorBrewer\", verbose = TRUE)\n",
        "install.packages(\"ggplot2\", verbose = TRUE)\n",
        "install.packages(\"statmod\", verbose = TRUE)\n",
        "install.packages(\"gplots\", verbose = TRUE)\n",
        "install.packages(\"BiocManager\", verbose = TRUE)\n",
        "BiocManager::install(ask = FALSE)\n",
        "if (!requireNamespace(\"BiocManager\", quietly = TRUE))\n",
        "  install.packages(\"BiocManager\")\n",
        "BiocManager::install(\"limma\")\n",
        "BiocManager::install(\"edgeR\")"
      ],
      "execution_count": null,
      "outputs": []
    },
    {
      "cell_type": "code",
      "metadata": {
        "id": "9PolFJMIuaQz"
      },
      "source": [
        "library(reshape2)\n",
        "library(limma)\n",
        "library(edgeR)\n",
        "library(ggplot2)\n",
        "library(RColorBrewer)\n",
        "library(gplots)\n",
        "library(statmod)"
      ],
      "execution_count": null,
      "outputs": []
    },
    {
      "cell_type": "markdown",
      "metadata": {
        "id": "7ql6Y5qJwwED"
      },
      "source": [
        "## Count data table"
      ]
    },
    {
      "cell_type": "markdown",
      "metadata": {
        "id": "VeCnbacd1tcR"
      },
      "source": [
        "Exchanging this raw data link for another appropiate input table allows you to perform the analysis with that particular data. "
      ]
    },
    {
      "cell_type": "code",
      "metadata": {
        "id": "RxznGe4g5p85"
      },
      "source": [
        "counts <- \"https://raw.githubusercontent.com/tgstoecker/teaching/master/AppliedBioinformatics/B73/gene-level/total_file.count\"\n",
        "fc_res <- read.table(counts, header = T, row.names = 1)"
      ],
      "execution_count": null,
      "outputs": []
    },
    {
      "cell_type": "markdown",
      "metadata": {
        "id": "y7pNoyV6Tw5_"
      },
      "source": [
        "Check the names of your columns and take a look at your table:\n"
      ]
    },
    {
      "cell_type": "code",
      "metadata": {
        "id": "pQG9pkgblszx"
      },
      "source": [
        "colnames(fc_res)\n",
        "head(fc_res)"
      ],
      "execution_count": null,
      "outputs": []
    },
    {
      "cell_type": "markdown",
      "metadata": {
        "id": "YY_-kKNyT4uL"
      },
      "source": [
        "Shorten the column names indicating the samples - e.g.:\n"
      ]
    },
    {
      "cell_type": "code",
      "metadata": {
        "id": "0lPWDsaFdbrI"
      },
      "source": [
        "colnames(fc_res) <- sub(\"_trimmed_sorted.bam\", \"\", colnames(fc_res))\n",
        "colnames(fc_res)"
      ],
      "execution_count": null,
      "outputs": []
    },
    {
      "cell_type": "markdown",
      "metadata": {
        "id": "Fr1NK22VU9ek"
      },
      "source": [
        "## Data exploration and quality"
      ]
    },
    {
      "cell_type": "markdown",
      "metadata": {
        "id": "kC9mVV9AVAHD"
      },
      "source": [
        "For data exploration and visualization, it is useful to work with transformed versions of count data.  \n",
        "This is because the distribution of count values is usually extremely skewed.\n",
        "Log2transformation helps to approximately normalize the distribution.\n",
        "Take a look at your samples and create a histogram - e.g.:"
      ]
    },
    {
      "cell_type": "code",
      "metadata": {
        "id": "Q49PRFkKmX0x"
      },
      "source": [
        "ggplot(fc_res, aes(x = B73_con_1)) + \n",
        "  geom_histogram(binwidth = 2000)"
      ],
      "execution_count": null,
      "outputs": []
    },
    {
      "cell_type": "markdown",
      "metadata": {
        "id": "zEu9kXi6VIYc"
      },
      "source": [
        "Log base 2 is typically used here as it allows for the conversion back to the original scale:  \n",
        "A difference of 1 on the log base2  scale  corresponds  to  a  fold  change  of  2  on  the  original count scale.  \n",
        "Since  count  values  for  a  gene  can  be  zero  in some conditions, this results in non-finite values which would be excluded in the plots.  \n",
        "An easy way around this is the use of pseudocounts, e.g.  transforming the data by adding e.g. a 1 count everywhere "
      ]
    },
    {
      "cell_type": "code",
      "metadata": {
        "id": "yhs0Bl1tmYcv"
      },
      "source": [
        "pseudoCount = log2(fc_res[, 6:13] + 1)\n",
        "\n",
        "ggplot(pseudoCount, aes(x = B73_con_1)) + \n",
        "  ylab(expression(log[2](count + 1))) +\n",
        "  geom_histogram(colour = \"white\", binwidth = 1)"
      ],
      "execution_count": null,
      "outputs": []
    },
    {
      "cell_type": "markdown",
      "metadata": {
        "id": "Mw-foCjDVXFv"
      },
      "source": [
        "Taking a look at the count distribution between samples/replicates counts is useful to assess effects even before filtering and normalization:\n",
        "This can for instance be done with Boxplots\n",
        "In the following we visualize the distribution of the pseoudocounts in all of your samples.\n",
        "\n",
        "Quick recap on boxplots:\n",
        "Boxes are formed with sides at the 25-th and 75-th percentiles of the distribution.  \n",
        "The line within a box represents the median. "
      ]
    },
    {
      "cell_type": "code",
      "metadata": {
        "id": "3wOaGvXamYoG"
      },
      "source": [
        "#ignore message about IDs\n",
        "df = melt(pseudoCount)\n",
        "df = data.frame(df, Condition = substr(df$variable,1,nchar(as.character(df$variable))-2))\n",
        "\n",
        "ggplot(df, aes(x = variable, y = value, fill = Condition)) + \n",
        "  geom_boxplot() + xlab(\"\") +\n",
        "  ylab(expression(log[2](count + 1))) + \n",
        "  scale_fill_manual(values = c(\"#619CFF\", \"orchid1\")) +\n",
        "  coord_flip()"
      ],
      "execution_count": null,
      "outputs": []
    },
    {
      "cell_type": "markdown",
      "metadata": {
        "id": "-g4wcfGMV1dS"
      },
      "source": [
        "Pseudocounts distributions can also be summarized by means of a density plot."
      ]
    },
    {
      "cell_type": "code",
      "metadata": {
        "id": "l2xnyEIXvbq4"
      },
      "source": [
        "ggplot(df, aes(x = value, colour = variable, fill = variable)) + \n",
        "  ylim(c(0, 0.25)) +\n",
        "  geom_density(alpha = 0.2, size = 1.25) + \n",
        "  facet_wrap(~ Condition) +\n",
        "  theme(legend.position = \"top\") + \n",
        "  xlab(expression(log[2](count + 1)))"
      ],
      "execution_count": null,
      "outputs": []
    },
    {
      "cell_type": "markdown",
      "metadata": {
        "id": "WqJWRmrrV_mn"
      },
      "source": [
        "Create a vector indicating treatment conditions of the samples \n",
        "- logic: columns left to right"
      ]
    },
    {
      "cell_type": "code",
      "metadata": {
        "id": "BrA8-BH6vmU1"
      },
      "source": [
        "group = c(\"control\", \"control\", \"control\", \"control\", \"drought\", \"drought\", \"drought\", \"drought\")\n",
        "group"
      ],
      "execution_count": null,
      "outputs": []
    },
    {
      "cell_type": "code",
      "metadata": {
        "id": "Ui6hlVphmrvz"
      },
      "source": [
        "# create a DGE list object - the core of using edgeR\n",
        "# For our purposes the DGEList-object should contain matrixes/dataframes of raw counts, group/treatment info as well as gene names \n",
        "##ignore error warning - Warning message in seq_len(head.end.idx): ...\n",
        "?DGEList\n",
        "dge = DGEList(counts = fc_res[, 6:13], group = group, genes = rownames(fc_res))"
      ],
      "execution_count": null,
      "outputs": []
    },
    {
      "cell_type": "code",
      "metadata": {
        "id": "nmzwzE70QDSe"
      },
      "source": [
        "ls.str()"
      ],
      "execution_count": null,
      "outputs": []
    },
    {
      "cell_type": "markdown",
      "metadata": {
        "id": "M1OFp4IY2gsU"
      },
      "source": [
        "### MA-plots"
      ]
    },
    {
      "cell_type": "markdown",
      "metadata": {
        "id": "QYlR_2Hb20Dg"
      },
      "source": [
        "A plot of log-fold change (M-values) vs the log average (A-values)  \n",
        "M-values = log of the ratio of level counts for each gene between two samples  \n",
        "A-values = the average level counts for each gene across the two samples (higher ~ more trustworthy) \n",
        "\n",
        "MA-plots are a useful way of visualizing the \"reproducibility\" between replicates/samples of an experiment.  \n",
        "In other words a MA-plot usually indicates that normalization is needed/ would be appropriate.  \n",
        "In a MA plot, genes with similar expression levels in two samples will appear around the horizontal line (y= 0).  \n",
        "The code also plots a loess fit (in red) - basically a trend in the bias related to the mean expression.  "
      ]
    },
    {
      "cell_type": "code",
      "metadata": {
        "id": "-1y5CLDv0bjB"
      },
      "source": [
        "x = pseudoCount$B73_con_1\n",
        "y = pseudoCount$B73_con_2\n",
        "\n",
        "## compute M-values\n",
        "M = x - y\n",
        "\n",
        "## compute A-values\n",
        "A = (x + y)/2\n",
        "\n",
        "df = data.frame(A, M)\n",
        "\n",
        "p <- ggplot(df, aes(x = A, y = M)) + \n",
        "  geom_point(size = 1.5, alpha = 1/5) +\n",
        "  geom_hline(color = \"blue2\", yintercept = 0) + \n",
        "  stat_smooth(se = FALSE, method = \"loess\", color = \"red\") \n",
        "p +  ggtitle(\"B73_control_1 vs B73_control_2\")"
      ],
      "execution_count": null,
      "outputs": []
    },
    {
      "cell_type": "markdown",
      "metadata": {
        "id": "ZmEUJb-CW0Xd"
      },
      "source": [
        "## Filtering our data \n"
      ]
    },
    {
      "cell_type": "markdown",
      "metadata": {
        "id": "POTsr8VPW8GU"
      },
      "source": [
        "###Transformation of raw read counts"
      ]
    },
    {
      "cell_type": "code",
      "metadata": {
        "id": "0BHlttXXmvCD"
      },
      "source": [
        "cpm <- cpm(dge)\n",
        "lcpm <- cpm(dge, log=TRUE)\n",
        "\n",
        "# checkout the library sizes of your samples\n",
        "dge$samples\n",
        "\n",
        "head(dge)\n",
        "summary(cpm)"
      ],
      "execution_count": null,
      "outputs": []
    },
    {
      "cell_type": "markdown",
      "metadata": {
        "id": "M2O6UbDNX_o6"
      },
      "source": [
        "**B73 based example**  \n",
        "A CPM value of 1 for a gene is equal to having 5.8 counts in the sample with the lowest sequencing depth (B73_con_1, lib.size ~ 5.8 million) or 22 counts in the sample with the greatest sequencing depth (B73_con_3, lib.size ~ 22 million).\n",
        "\n",
        "Log-CPM values are generally very suited for exploratory plots. \n",
        "When you set log=TRUE, the edgeR's cpm *function* adds an offset to the CPM values before conversion to the log2-scale. \n",
        "With default options, this offset is 2/L where 2 is the “prior count” (or offset) and L is the average lib.size in millions, so in other words: the log-CPM values are related to the CPM values by log2(CPM + 2/L). \n",
        "\n",
        "Why?\n",
        "With this calculation we can enssure that any two read-counts with identical CPM values will also have identical log-CPM values. \n",
        " 1. Using such a \"prior count\" we never compute the logarithm of 0\n",
        " 2. This also reduces (here it gets nerdy) the variability of all genes with very low counts by shrinking all the inter-sample log-fold-changes towards 0, which has been shown to be nice for exploratory plotting. \n",
        "\n",
        "Now, imagine a dataset, which average library size is about 50 million, so L approx. 50 and the minimum log-CPM value for each sample becomes log2(2/50) = -4.644. \n",
        "In other words, a count of zero for this data maps to a log-CPM value of -4.644 after adding the \"prior count\".\n",
        "\n",
        "Now check your data/samples:"
      ]
    },
    {
      "cell_type": "code",
      "metadata": {
        "id": "c56KgCGm0XG7"
      },
      "source": [
        "L <- mean(dge$samples$lib.size) * 1e-6\n",
        "M <- median(dge$samples$lib.size) * 1e-6\n",
        "c(L, M)\n",
        "summary(lcpm)"
      ],
      "execution_count": null,
      "outputs": []
    },
    {
      "cell_type": "markdown",
      "metadata": {
        "id": "dMxPEBkoYRDY"
      },
      "source": [
        "Removing genes that are lowly expressed\n",
        "RNA-Seq datasets will include a mix of genes, some of them expressed and some which are not. \n",
        "For our purposes it is of interest to examine genes that are expressed in one treatment but not in the other. \n",
        "However some genes could be UNexpressed throughout all samples! \n",
        "\n",
        "Are there any genes in your 8 samples that fit this scenario?"
      ]
    },
    {
      "cell_type": "code",
      "metadata": {
        "id": "xXLkce2jnQQm"
      },
      "source": [
        "head(dge$counts)\n",
        "table(rowSums(dge$counts==0)==8)"
      ],
      "execution_count": null,
      "outputs": []
    },
    {
      "cell_type": "markdown",
      "metadata": {
        "id": "reppr4-YYY0K"
      },
      "source": [
        "Why do we care?\n",
        "Genes that do not have a worthwhile number of reads in any sample should be filtered out of the downstream analyses. \n",
        "Biological reason: Genes not expressed at a biologically relevant level in any of our samples/conditions are uninteresting \n",
        "Statistical reason: removal of low count genes reduces statistical \"noise\"; more precisely:\n",
        "estimation of the mean-variance relationship is made more precise and also the number of statistical tests which need to be performed in the subsequent steps for differential expression are reduced. \n",
        "\n",
        "EdgeR has an automatic way to filter our genes, while trying to keep as many as possible which are deemed worthwhile, regarding their counts \n",
        "(it is of course possible to dive deeper and set custom cutoffs etc.).\n",
        "-> for our purposes and most use cases the automatic way is a reasonable choice\n",
        "\n",
        "Now, how does edgeR go about the filtering?\n",
        "The basic idea is to keep all genes which possess a minimum number of counts in a reasonable number of our samples.\n",
        "CPM values instead of raw counts are used as to not give preference to samples with large library sizes as discussed above. \n",
        "E.g. large lib.size leads to lower CPM cutoff;\n",
        "-> larger library sizes (higher resolution) allow for the exploration of more genes at lower expression levels \n",
        "(Usually the function keeps genes with about 10 or more read counts in enough samples) the cutoff can thus be roughly approximated by: log2(10/M + 2/L)\n",
        "\n",
        "To sum up: Determining factors are the library sizes of the samples, the minimum required count and the design of the experiment.\n",
        "\n",
        "For more details see documentation:"
      ]
    },
    {
      "cell_type": "code",
      "metadata": {
        "id": "iR4dri3TvnVs"
      },
      "source": [
        "?filterByExpr\n",
        "##ignore error warning - Warning message in seq_len(head.end.idx):"
      ],
      "execution_count": null,
      "outputs": []
    },
    {
      "cell_type": "markdown",
      "metadata": {
        "id": "L_EfZCjjYwIH"
      },
      "source": [
        "All this already indicates that such filtering is very much experiment specific.\n",
        "But how do we get edgeR/R to understand our data or research question?"
      ]
    },
    {
      "cell_type": "markdown",
      "metadata": {
        "id": "JNVm-xedY5K1"
      },
      "source": [
        "This leads us to another necessary step:\n"
      ]
    },
    {
      "cell_type": "markdown",
      "metadata": {
        "id": "68LCNsCyZcvn"
      },
      "source": [
        "##Creating a design matrix "
      ]
    },
    {
      "cell_type": "markdown",
      "metadata": {
        "id": "yj9vlrDYiAyz"
      },
      "source": [
        "With the data in the course we want to find out which genes are differentially expressed between control and drought treatment. \n",
        "A design matrix of our data is easily created using the sample information.\n",
        "note1: in this simple scenario we only need to make use of the group vector, created at the very beginning of this workflow \n",
        "note2: with ~0 we remove the intercept from our 2 level factor, which we treat as two seperate groups; we don't have any interaction in this simple model"
      ]
    },
    {
      "cell_type": "code",
      "metadata": {
        "id": "dr67NGco0QTv"
      },
      "source": [
        "design <- model.matrix(~0+group)\n",
        "design"
      ],
      "execution_count": null,
      "outputs": []
    },
    {
      "cell_type": "markdown",
      "metadata": {
        "id": "rYmSlSfrZbvt"
      },
      "source": [
        "Design matrices can be much more complex, which (theoretically) allows you to model every well designed experiment e.g. factorial designs, complex interactions and much, much more are possible\n",
        "\n",
        "Check the column names - these should be your groups of interest?"
      ]
    },
    {
      "cell_type": "code",
      "metadata": {
        "id": "3WFzFdSNoIQ2"
      },
      "source": [
        "colnames(design)"
      ],
      "execution_count": null,
      "outputs": []
    },
    {
      "cell_type": "markdown",
      "metadata": {
        "id": "oK7eScGRZ9Z6"
      },
      "source": [
        "Now we combine everything previously mentioned and perform edgeR's automatic filtering.\n",
        "Note how well designed edgeR is -\n",
        "Filtering the DGEList-object this way keeps gene and count info for the retained genes correctly associated."
      ]
    },
    {
      "cell_type": "code",
      "metadata": {
        "id": "E-nk5QgroV9D"
      },
      "source": [
        "keep <- filterByExpr(dge, design)\n",
        "dge_filtered <- dge[keep, , keep.lib.sizes=FALSE]\n",
        "#the amount of genes after filtering is reduced - how much in your case?\n",
        "dim(dge_filtered)"
      ],
      "execution_count": null,
      "outputs": []
    },
    {
      "cell_type": "markdown",
      "metadata": {
        "id": "vDTNS-B2aa_x"
      },
      "source": [
        "All rows without any counts should definitely have been excluded:\n"
      ]
    },
    {
      "cell_type": "code",
      "metadata": {
        "id": "puKGxO-joWDE"
      },
      "source": [
        "table(rowSums(dge_filtered$counts==0)==8)"
      ],
      "execution_count": null,
      "outputs": []
    },
    {
      "cell_type": "markdown",
      "metadata": {
        "id": "akrlznNMay_x"
      },
      "source": [
        "Data exploration also means visualization, so after so much theory let's plot the density distribution before and after filtering.\n",
        "To brush up your R skills: Take your time, go through the code line by line and try to understand what everything does."
      ]
    },
    {
      "cell_type": "code",
      "metadata": {
        "id": "uxqid11-0Lw0"
      },
      "source": [
        "#general setup of the plots\n",
        "par(mfrow=c(1,2))\n",
        "\n",
        "lcpm.cutoff <- log2(10/M + 2/L)\n",
        "\n",
        "# create first plot\n",
        "lcpm_unfiltered <- cpm(dge, log=TRUE)\n",
        "nsamples <- ncol(dge)\n",
        "col <- brewer.pal(nsamples, \"Paired\")\n",
        "plot(density(lcpm_unfiltered[,1]), col=col[1], lwd=2, ylim=c(0,0.35), las=2, main=\"\", xlab=\"\")\n",
        "title(main=\"A. Raw data\", xlab=\"Log-cpm\")\n",
        "abline(v=lcpm.cutoff, lty=3)\n",
        "for (i in 2:nsamples){\n",
        "  den <- density(lcpm_unfiltered[,i])\n",
        "  lines(den$x, den$y, col=col[i], lwd=2)\n",
        "}\n",
        "legend(\"topright\", row.names(dge$samples), text.col=col, bty=\"n\")\n",
        "\n",
        "# create second plot\n",
        "lcpm_filtered <- cpm(dge_filtered, log=TRUE)\n",
        "plot(density(lcpm_filtered[,1]), col=col[1], lwd=2, ylim=c(0,0.35), las=2, main=\"\", xlab=\"\")\n",
        "title(main=\"B. Filtered data\", xlab=\"Log-cpm\")\n",
        "abline(v=lcpm.cutoff, lty=3)\n",
        "for (i in 2:nsamples){\n",
        "  den <- density(lcpm_filtered[,i])\n",
        "  lines(den$x, den$y, col=col[i], lwd=2)\n",
        "}\n",
        "legend(\"topright\", row.names(dge_filtered$samples), text.col=col, bty=\"n\")"
      ],
      "execution_count": null,
      "outputs": []
    },
    {
      "cell_type": "markdown",
      "metadata": {
        "id": "2bAUX6eFbBm9"
      },
      "source": [
        "You just plotted the density of log-CPM values of all samples before and after filtering!\n",
        "The vertical line in each plot marks the aforementioned, approximated log-CPM threshold used in the filtering step.\n",
        "\n",
        "Based on the inspection and visualization of our data we can conclude that a good amount of genes within each sample are either un-/verylow-expressed as is indicated by the small and negative logCPM values."
      ]
    },
    {
      "cell_type": "markdown",
      "metadata": {
        "id": "HziiMSS5bZYB"
      },
      "source": [
        "##Normalization (of gene expression distributions)"
      ]
    },
    {
      "cell_type": "markdown",
      "metadata": {
        "id": "aLO3zK6IiOqN"
      },
      "source": [
        "With Normalization systemic differences between samples are removed in order to negate the impact of technical bias (in other words: external factors that are not of biological interest) on the final results as much as possible.  \n",
        "Normalization generally entails that an appropriate baseline is determined; sample counts are then expressed relative to this baseline. \n",
        "\n",
        "For robust diff. exp. analysis we want to assume that all samples have a similar range and distribution of expression values. \n",
        "We can make use of various normalization approaches to equalise the expression distributions so that all our samples are similar in this aspect across the entire experiment.\n",
        "\n",
        "Any plot showing the per sample expression distributions, such as a density or boxplot, is useful in determining whether any samples are considerably different to others. \n",
        "Throughout all samples of our data distributions of log-CPM values are already quite similar (as can be seen e.g. in the created density plots)\n",
        "\n",
        "Nevertheless, we are going to perform normalization by the method of trimmed mean of M-values (TMM) -\n",
        "\n",
        "With edgeR this can be performed using the calcNormFactors function:"
      ]
    },
    {
      "cell_type": "code",
      "metadata": {
        "id": "jHQhlDNfpCZI"
      },
      "source": [
        "dge_normalized <- calcNormFactors(dge_filtered, method = \"TMM\")\n",
        "#have a look at the individual normalization factors of the samples we just created\n",
        "dge_normalized$samples$norm.factors\n",
        "head(dge_normalized)"
      ],
      "execution_count": null,
      "outputs": []
    },
    {
      "cell_type": "markdown",
      "metadata": {
        "id": "j3aJHIH0bttq"
      },
      "source": [
        "These serve as \"scaling factors\" for the individual library sizes.\n",
        "For the data used in the course the effect of TMM-normalisation is rather mild, as can be seen with the norm.factors, which are all relatively close to 1."
      ]
    },
    {
      "cell_type": "code",
      "metadata": {
        "id": "afqXFJnnpJvP"
      },
      "source": [
        "#Let's plot a comparison of the raw, filtered and normalized sample log-CPM values using boxplots - a.k.a. expression distribution\n",
        "#general setup of the plots\n",
        "par(mfrow=c(1,3), mar = c(9, 3, 3, 3))\n",
        "\n",
        "#first plot - raw\n",
        "lcpm <- cpm(dge, log=TRUE)\n",
        "boxplot(lcpm, las=2, col=col, main=\"\")\n",
        "title(main=\"Raw data\",ylab=\"Log-cpm\")\n",
        "\n",
        "# second plot - un-normalized but filtered\n",
        "lcpm_filtered <- cpm(dge_filtered, log=TRUE)\n",
        "boxplot(lcpm_filtered, las=2, col=col, main=\"\")\n",
        "title(main=\"Unnormalized but \\n filtered data\",ylab=\"Log-cpm\")\n",
        "\n",
        "# second plot - normalized and filtered\n",
        "lcpm_normalized <- cpm(dge_normalized, log=TRUE)\n",
        "boxplot(lcpm_normalized, las=2, col=col, main=\"\")\n",
        "title(main=\"Normalized and \\n filtered data\",ylab=\"Log-cpm\")"
      ],
      "execution_count": null,
      "outputs": []
    },
    {
      "cell_type": "markdown",
      "metadata": {
        "id": "PtDnnNg8b51b"
      },
      "source": [
        "As you can see there is not much to see ;)  \n",
        "Thus in order to give a better visual representation of the effects of normalisation, we are going to manually worsen our data a bit.\n",
        "In the code provided below, counts of the 7th sample are reduced to 5% of their original values, and in the 8th sample they are multiplied to be 5-times larger.\n",
        "Please feel free to make it even worse!"
      ]
    },
    {
      "cell_type": "code",
      "metadata": {
        "id": "S-hJqmA90Fwx"
      },
      "source": [
        "#Let's repeat the plot (without raw/unfltered data) - but with worsely distributed data - this time concentrating on normalization\n",
        "dge_filtered_worse <- dge_filtered\n",
        "dge_filtered_worse$samples$norm.factors <- 1\n",
        "dge_filtered_worse$counts[,7] <- ceiling(dge_filtered_worse$counts[,1]*0.05)\n",
        "dge_filtered_worse$counts[,8] <- dge_filtered_worse$counts[,2]*5\n",
        "\n",
        "#general setup of the plots\n",
        "par(mfrow=c(1,2))\n",
        "\n",
        "# first plot - un-normalized and worsened\n",
        "lcpm_filtered_worse <- cpm(dge_filtered_worse, log=TRUE)\n",
        "boxplot(lcpm_filtered_worse, las=2, col=col, main=\"\", ylim = c(-5, 15))\n",
        "title(main=\"Unnormalized data \\n (manually worsened)\",ylab=\"Log-cpm\")\n",
        "\n",
        "#again perform normalization - and take a look at the norm.factors here, especially of all samples you altered!\n",
        "dge_filtered_worse_normalized <- calcNormFactors(dge_filtered_worse)  \n",
        "dge_filtered_worse_normalized$samples$norm.factors\n",
        "\n",
        "# second plot - normalized\n",
        "lcpm_filtered_worse_normalized <- cpm(dge_filtered_worse_normalized, log=TRUE)\n",
        "boxplot(lcpm_filtered_worse_normalized, las=2, col=col, main=\"\", ylim = c(-5, 15))\n",
        "title(main=\"Normalized data\",ylab=\"Log-cpm\")"
      ],
      "execution_count": null,
      "outputs": []
    },
    {
      "cell_type": "markdown",
      "metadata": {
        "id": "FXvKw2ULcDuk"
      },
      "source": [
        "With the modified data the distributions are decidedly different between before compared to after normalization.  \n",
        "Take special note of the TMM scaling factors of the altered samples – neither of the values should be close to 1."
      ]
    },
    {
      "cell_type": "markdown",
      "metadata": {
        "id": "GNs5w3BmePq2"
      },
      "source": [
        "##Dispersion estimation"
      ]
    },
    {
      "cell_type": "markdown",
      "metadata": {
        "id": "_JarRGpGiwjc"
      },
      "source": [
        "EdgeR uses the negative binomial (NB) distribution to model the read counts for each gene in each sample. \n",
        "The dispersion parameter of the NB distribution accounts for variability between biological replicates - in fact three different kind of dispersions are estimated by edgeR."
      ]
    },
    {
      "cell_type": "code",
      "metadata": {
        "id": "epub-M_TpxLm"
      },
      "source": [
        "#All 3 dispersion estimates can easily be obtained from the estimateDisp function in one command:\n",
        "dge_disp <- estimateDisp(dge_normalized, design, robust=TRUE)\n",
        "\n",
        "#By this, to the DGEList object additional components (common.dispersion, etc.) are added, which contain the estimated dispersions. \n",
        "#The robust=TRUE option is generally recommended as it protects the empirical Bayes estimates against the impact of extreme/outlier genes with \n",
        "#overproportional large or small individual dispersions.\n",
        "\n",
        "#Once negative binomial models are fitted and dispersion estimates are obtained, we could start with the differential expression analysis.\n",
        "#A second layer or extension of methods can be further employed to consider gene-specific variability from both biological/technical sources.\n",
        "#This is especially reasonable in multifactor experiments and/or when having more than two groups.\n",
        "#-> quasi-likelihood (QL) methods \n",
        "\n",
        "#The estimation of QL dispersions is performed using the glmQLFit function:\n",
        "fit <- glmQLFit(dge_disp, design, robust=TRUE)\n",
        "#This returns a DGEGLM object (Digital Gene Expression Generalized Linear Model) containing the estimated values of the GLM coefficients for each individual gene. "
      ],
      "execution_count": null,
      "outputs": []
    },
    {
      "cell_type": "markdown",
      "metadata": {
        "id": "l1Y4NA2m41ra"
      },
      "source": [
        "## We have made it, next up --> testing for differential expression\n",
        "\n",
        "The next step is to test for differential expression between the experimental groups - in our case control vs drought treatment.  \n",
        "For this, first the \"contrast\" has to be created, which corresponds to the comparison we are interested in.  "
      ]
    },
    {
      "cell_type": "code",
      "metadata": {
        "id": "Q6dXE1Fpzx88"
      },
      "source": [
        "# For this we can make use of limma's convenient makeContrasts function:\n",
        "CvsD <- makeContrasts(groupdrought-groupcontrol, levels=design)\n",
        "\n",
        "#In subsequent results, a positive log2-fold-change (logFC) will indicate a gene up-regulated in drought compared to control treated plants, \n",
        "#whereas a negative logFC will indicate a gene more highly expressed in control treated plants.\n",
        "\n",
        "#EdgeR offers two main kinds of tests - QL F-tests and likelihood ratio tests (LRT).\n",
        "#We will use the former as they perform stricter error control by accounting for the uncertainty in dispersion estimation:\n",
        "res <- glmQLFTest(fit, contrast=CvsD)"
      ],
      "execution_count": null,
      "outputs": []
    },
    {
      "cell_type": "markdown",
      "metadata": {
        "id": "pschvLbG5BXg"
      },
      "source": [
        "*noteworthy:*  \n",
        "Generally speaking, the QL F-test should be used as it far more robust and reliable.  \n",
        "This becomes most apparent when the number of replicates is small.  \n",
        "\n",
        "*in even more detail:*  \n",
        "LRT is typically used for situations in which a dispersion parameter is not used, e.g., logistic regressions or Poisson models.  \n",
        "However, for negative binomial models, the dispersion parameter needs to be estimated from the same data used to fit the model.  \n",
        "This introduces extra uncertainty into the model fit that is not handled by LRT.  "
      ]
    },
    {
      "cell_type": "code",
      "metadata": {
        "id": "x2RI3ZO9qH2T"
      },
      "source": [
        "#Returning to the differential expression analysis\n",
        "#The top diff. exp. genes can be viewed with function topTags:\n",
        "topTags(res)"
      ],
      "execution_count": null,
      "outputs": []
    },
    {
      "cell_type": "markdown",
      "metadata": {
        "id": "mLjBflow5Rye"
      },
      "source": [
        "In order to control the **false discovery rate (FDR)**, multiple testing correction is performed using the Benjamini-Hochberg method.  \n",
        "Each locus is tested independently - imagine 20,000 tests being performed and alpha is set to P<0.05.  \n",
        "In this case we could expect at least 1,000 DE loci just by chance (0.05 * 20,000)!  \n",
        "Thus in order to control the false discovery rate, we can make use of control algorithms such as the one by Benjamini and Hochberg.  \n",
        "for a detailed explanation you can have look at: http://www.biostathandbook.com/multiplecomparisons.html"
      ]
    },
    {
      "cell_type": "code",
      "metadata": {
        "id": "19zhItWaqJhc"
      },
      "source": [
        "is.de <- decideTestsDGE(res, adjust.method = \"BH\")"
      ],
      "execution_count": null,
      "outputs": []
    },
    {
      "cell_type": "code",
      "metadata": {
        "id": "eHvaXSAKqLcG"
      },
      "source": [
        "#summary of the object gives us the amount of diff. exp. genes and also whether they are up/downregulated between conditions\n",
        "summary(is.de)"
      ],
      "execution_count": null,
      "outputs": []
    },
    {
      "cell_type": "code",
      "metadata": {
        "id": "hRhza8Lcqa6r"
      },
      "source": [
        "#Now, using the res object we can add other parameters/cutoffs - by viewing/extracting subsets - thereby determining the set set of genes we are interested in\n",
        "#and extracting all relevant information \n",
        "#e.g. creating a TopTags object with all genes and information on fold changes and p-/q-values\n",
        "check <- topTags(res, adjust.method = \"BH\", n = \"all\")\n",
        "\n",
        "sum(check$table$logFC < 0 & check$table$FDR < 0.05)\n",
        "sum(check$table$logFC > 0 & check$table$FDR < 0.05)\n",
        "\n",
        "subset(check$table, logFC < 0 & FDR < 0.05)\n",
        "subset(check$table, logFC > 0 & FDR < 0.05)"
      ],
      "execution_count": null,
      "outputs": []
    },
    {
      "cell_type": "code",
      "metadata": {
        "id": "2vgh3AWyqi_L"
      },
      "source": [
        "#or create lists of upregulated and downregulated genes - from drought perspective\n",
        "edgeR_all_sig_genes <- subset(check$table, FDR < 0.05)$genes\n",
        "up_drought <- subset(check$table, logFC > 0 & FDR < 0.05)$genes\n",
        "down_drought <- subset(check$table, logFC < 0 & FDR < 0.05)$genes"
      ],
      "execution_count": null,
      "outputs": []
    },
    {
      "cell_type": "markdown",
      "metadata": {
        "id": "FJX0Z5mn5n00"
      },
      "source": [
        "The magnitude of the differential expression changes can be visualized with a fitted model MD plot.  \n",
        "in other words:  \n",
        "we visualize the log-fold change and average abundance of each gene.\n",
        "\n",
        "Significantly up and down regulated, differentially expressed genes are highlighted in red and blue, respectively.  \n",
        "Some genes posess high fold changes but are deemed unsignificant due the p-/q-value cutoff/s - e.g. in case of 1 extreme outlier replicate.  "
      ]
    },
    {
      "cell_type": "code",
      "metadata": {
        "id": "QM1ONH0WqjI0"
      },
      "source": [
        "plotMD(res, status=is.de, values=c(1,-1), col=c(\"red\",\"blue\"),\n",
        "       legend=\"topright\")"
      ],
      "execution_count": null,
      "outputs": []
    },
    {
      "cell_type": "markdown",
      "metadata": {
        "id": "_-Ib89Z_51mR"
      },
      "source": [
        "###Differential expression above a specified log-fold-change threshold\n"
      ]
    },
    {
      "cell_type": "code",
      "metadata": {
        "id": "ZHYOgcfTqDUv"
      },
      "source": [
        "#The easiest way to do this is to add further cutoffs to our subset function\n",
        "subset(check$table, logFC < -1 & FDR < 0.05)\n",
        "subset(check$table, logFC > 1 & FDR < 0.05)"
      ],
      "execution_count": null,
      "outputs": []
    },
    {
      "cell_type": "markdown",
      "metadata": {
        "id": "-t_v0Nzg57Ov"
      },
      "source": [
        "*Sidenote:*  \n",
        "However, if one was to identify very high numbers of differentially expressed genes and wanted to apply more strict methods (in order to shorten the list to \n",
        "those that are biologically more relevant) there exists a better alternative to simply applying cutoffs.  \n",
        "Namely, via the use of a more strict model than that used by glmQLFTest.  \n",
        "This is due to glmQLFTest identifying differential expression based on statistical significance regardless of how small the difference might be.  \n",
        "Using the glmTreat function one can directly perform tests which detect expression changes greater than a specified threshold.  "
      ]
    },
    {
      "cell_type": "markdown",
      "metadata": {
        "id": "fwK9KT7yf6Bf"
      },
      "source": [
        "##Visualization of our final diff. exp. results"
      ]
    },
    {
      "cell_type": "markdown",
      "metadata": {
        "id": "6YGWGYPbgCy5"
      },
      "source": [
        "###1- Heat map clustering\n",
        "Heatmaps are a very handy way to display differential expression results.  \n",
        "First convert the read counts into log2-counts-per-million (lcpm) values, as we also did in the beginning of script."
      ]
    },
    {
      "cell_type": "code",
      "metadata": {
        "id": "hxLCIaejzrME"
      },
      "source": [
        "#Running dev.off and repeating the code, helps when error messages appear; e.g. if creating heatmap of big size (gene number)\n",
        "lcpm <- cpm(dge_normalized, log=TRUE, prior.count = 1)\n",
        "colnames(lcpm) <- paste(dge_normalized$samples$group, 1:4, sep=\"-\")\n",
        "\n",
        "#Using a heatmap we can display the gene expression pattern across all the samples. \n",
        "#First we select the log2 CPM values for the 2000 top diff. exp. genes based on their p-values as computed in the diff. exp. test \n",
        "#(using all/too many genes may result in your R session crashing depending on the system you are running on):\n",
        "\n",
        "o <- order(res$table$PValue)\n",
        "lcpm <- lcpm[o[1:200],]\n",
        "\n",
        "#lcpm <- lcpm[1:30,]\n",
        "\n",
        "#We produce a heatmap via the coolmap function:\n",
        "coolmap(lcpm, cluster.by = \"de pattern\", margins=c(8,8))"
      ],
      "execution_count": null,
      "outputs": []
    },
    {
      "cell_type": "markdown",
      "metadata": {
        "id": "-oCpOYZr6Mim"
      },
      "source": [
        "Coolmap is a great choice since the default clustering metrics are chosen to be appropriate for expression data.  \n",
        "-> It will automatically standardize the expression values  \n",
        "\n",
        "Some notes on interpretation of the colour coded Z-scores:  \n",
        "Simply put, a Z-score represents the number of standard deviations from the mean value of the reference population/all samples.  \n",
        "Z-scores thus inform you where the score lies on a normal distribution curve.  \n",
        "Scores close to zero indicate that the values are exactly average while a score of e.g. +2 tells you that the value is much higher than average.  \n",
        "\n",
        "Genes are clustered by correlation (highly correlated genes are closest).  \n",
        "Samples are clustered, based on Euclidean distance between the expression values of the samples.  \n",
        "Replicate samples from each group should thus be clustered together."
      ]
    },
    {
      "cell_type": "markdown",
      "metadata": {
        "id": "T2l72X7ugcJl"
      },
      "source": [
        "###2-Plotting the volcano\n",
        "Volcano  plots allow for the visual summarization of  both fold-change and statistical significance (generally p-values).  \n",
        "We will create a scatter-plot of the negative (log10 transformed) p-values of our diff. exp. test (y-axis) against the log2 fold change (x-axis).  \n",
        "\n",
        "Even before plotting we can think about where the regions of interest in such a graph are:  \n",
        "Points at the top of the plot possess small p-values thus being highly significant.  \n",
        "Points being far away from the center (left or right) display the largest fold changes."
      ]
    },
    {
      "cell_type": "code",
      "metadata": {
        "id": "kp4zwGmBzmSq"
      },
      "source": [
        "## Let's start of by defining cutoffs for both the p-values and the log2 fold changes, e.g.:\n",
        "lfc = 1\n",
        "pval = 0.05\n",
        "\n",
        "#We then create a smaller dataframe that contains our transformed p-values and the log2 fold changes of the respective genes:\n",
        "tab = data.frame(logFC = res$table$logFC, negLogPval = -log10(res$table$PValue))\n",
        "head(tab)\n",
        "\n",
        "#next, we plot the basics\n",
        "par(mar = c(5, 4, 4, 4))\n",
        "plot(tab, pch = 16, cex = 0.6, \n",
        "     xlab = expression(log[2]~fold~change),ylab = expression(-log[10]~pvalue),\n",
        "     xlim = c(-4,4))\n",
        "\n",
        "#This already quite good and informative but we can still greatly improve it   \n",
        "signGenes = (abs(res$table$logFC) > lfc & tab$negLogPval > -log10(pval))\n",
        "points(tab[signGenes, ], pch = 16, cex = 0.8, col = \"red\")\n",
        "abline(h = -log10(pval), col = \"green3\", lty = 2)\n",
        "abline(v = c(-lfc, lfc), col = \"blue\", lty = 2)\n",
        "mtext(paste(\"pval =\", pval), side = 4, at = -log10(pval), cex = 0.8, line = 0.5, las = 1)\n",
        "mtext(c(paste(\"-\", lfc, \"fold\"), paste(\"+\", lfc, \"fold\")), side = 3, at = c(-lfc, lfc),cex = 0.8, line = 0.5)"
      ],
      "execution_count": null,
      "outputs": []
    },
    {
      "cell_type": "markdown",
      "metadata": {
        "id": "eKHQmoED6Xdr"
      },
      "source": [
        "Red points indicate all genes having both fold-changes greater than our cutoff (x-axis) and high statistical significance (y-axis).  \n",
        "The green line shows the p-value cutoff with points above the line having a p-value < 0.05 and points below the line having a p-value > 0.05.  \n",
        "The vertical lines in blue colour show 1-fold changes.  "
      ]
    },
    {
      "cell_type": "markdown",
      "metadata": {
        "id": "7HHEonc5zidk"
      },
      "source": [
        "##Some final thoughts\n",
        "Another important takeaway here is that even with base R and a bit of imagination extremely informative plots can be generated!  \n",
        "\n",
        "To make all your future plots and graphs pretty, you can use the following link showcasing all colour option in base R :D \n",
        "http://www.stat.columbia.edu/~tzheng/files/Rcolor.pdf"
      ]
    },
    {
      "cell_type": "markdown",
      "metadata": {
        "id": "dxxm3rgAWfSm"
      },
      "source": [
        "## Exporting results for use in other analyses/software (e.g. MapMan)"
      ]
    },
    {
      "cell_type": "markdown",
      "metadata": {
        "id": "W0FidpmcXCLd"
      },
      "source": [
        "For some follow-up analyses a transcript-level instead of a gene-level analysis & corresponding results might make more sense or are in fact necessary.  \n",
        "Nevertheless, the following snippet is to demonstrate basic export of specific results for further downstream steps.  \n",
        "  \n",
        "The first thing to check is whether or not our data contains infinite fold changes.  \n",
        "This shouldn't be the case because of the way edgeR works - however this is an important detail to keep in mind as software (e.g. MapMan) doesn't know what to do with them.  \n",
        "In other pipelines it might be necessary to transform infinite values to a common number.  \n",
        "\n"
      ]
    },
    {
      "cell_type": "code",
      "metadata": {
        "id": "rHCxwExzWGkd"
      },
      "source": [
        "#Create an easy to view intermediate file - then inspect it (infinite fold changes?)\n",
        "desired_subset <- topTags(res, adjust.method = \"BH\", n = \"all\")\n",
        "\n",
        "#Create a subset containing only three columns: Gene ID, log2 fold change and q-value/FDR correction;\n",
        "#while we're at it, let's keep the column names simple\n",
        "desired_subset_B73 <- data.frame(desired_subset$table$genes, desired_subset$table$logFC, desired_subset$table$FDR)\n",
        "colnames(desired_subset_B73) <- c(\"gene_id\", \"log2_fold_change\", \"q_value\")"
      ],
      "execution_count": null,
      "outputs": []
    },
    {
      "cell_type": "code",
      "metadata": {
        "id": "fQxRnyb_WHBl"
      },
      "source": [
        "#Write the data to a file - check and choose your working directory and file names - this file will be our input for MapMan\n",
        "write.table(desired_subset_B73[,c(\"gene_id\", \"log2_fold_change\", \"q_value\")], file=\"/desired_subset_B73.txt\", sep=\"\\t\", col.names = T, row.names = F)"
      ],
      "execution_count": null,
      "outputs": []
    },
    {
      "cell_type": "markdown",
      "metadata": {
        "id": "uPQM_1tLaXXA"
      },
      "source": [
        "When using this script using colab, you can find your subset table under the root directory of the virtual machine.  \n",
        "To navigate there use the left sidebar, click on files and move \"up\" (..) in the filesystem.  \n",
        "Your .txt file should be at the bottom of the overview.  "
      ]
    }
  ]
}