{
  "nbformat": 4,
  "nbformat_minor": 0,
  "metadata": {
    "colab": {
      "name": "GeneCountsVenn2020.ipynb",
      "provenance": [],
      "collapsed_sections": [
        "9IBD9Pt4WTuB",
        "GC9Na1HEWPOc",
        "uMuu-E5AXSz6",
        "VOxFmge4ZW3O",
        "6VNLfQEeXd7r",
        "-pxPv-qCaW66",
        "n20ghAURcdJL"
      ],
      "toc_visible": true,
      "authorship_tag": "ABX9TyN3MlvoiAC9f1pv3Al8S0g8",
      "include_colab_link": true
    },
    "kernelspec": {
      "name": "ir",
      "display_name": "R"
    }
  },
  "cells": [
    {
      "cell_type": "markdown",
      "metadata": {
        "id": "view-in-github",
        "colab_type": "text"
      },
      "source": [
        "<a href=\"https://colab.research.google.com/github/tgstoecker/teaching/blob/master/AppliedBioinformatics/Notebooks/GeneCountsVenn2020.ipynb\" target=\"_parent\"><img src=\"https://colab.research.google.com/assets/colab-badge.svg\" alt=\"Open In Colab\"/></a>"
      ]
    },
    {
      "cell_type": "markdown",
      "metadata": {
        "id": "9IBD9Pt4WTuB",
        "colab_type": "text"
      },
      "source": [
        "#Venn Diagrammes - the power of the theory"
      ]
    },
    {
      "cell_type": "markdown",
      "metadata": {
        "id": "GC9Na1HEWPOc",
        "colab_type": "text"
      },
      "source": [
        "##Installation of necessary R packages"
      ]
    },
    {
      "cell_type": "code",
      "metadata": {
        "id": "6qzcINTZ3jRc",
        "colab_type": "code",
        "colab": {}
      },
      "source": [
        "R.Version()\n",
        "\n",
        "install.packages(\"BiocManager\", verbose = TRUE)\n",
        "\n",
        "BiocManager::install(version = \"3.9\", ask = FALSE)\n",
        "\n",
        "# install the VennDiagramme package - you need to do this only once\n",
        "install.packages(\"VennDiagram\")\n",
        "\n",
        "if (!requireNamespace(\"BiocManager\", quietly = TRUE))\n",
        "  install.packages(\"BiocManager\")\n",
        "BiocManager::install(\"limma\", version = \"3.9\")\n",
        "\n",
        "if (!requireNamespace(\"BiocManager\", quietly = TRUE))\n",
        "  install.packages(\"BiocManager\")\n",
        "BiocManager::install(\"edgeR\", version = \"3.9\")"
      ],
      "execution_count": 0,
      "outputs": []
    },
    {
      "cell_type": "markdown",
      "metadata": {
        "id": "uMuu-E5AXSz6",
        "colab_type": "text"
      },
      "source": [
        "## Load all required packages\n"
      ]
    },
    {
      "cell_type": "code",
      "metadata": {
        "id": "u_wwXh943kkW",
        "colab_type": "code",
        "colab": {}
      },
      "source": [
        "library(limma)\n",
        "library(edgeR)\n",
        "library(VennDiagram)"
      ],
      "execution_count": 0,
      "outputs": []
    },
    {
      "cell_type": "markdown",
      "metadata": {
        "id": "VOxFmge4ZW3O",
        "colab_type": "text"
      },
      "source": [
        "##Quick & easy data handing"
      ]
    },
    {
      "cell_type": "markdown",
      "metadata": {
        "id": "AObjdYYMXUki",
        "colab_type": "text"
      },
      "source": [
        "Read in the results - the count matrix of ALL 4 maize lines:"
      ]
    },
    {
      "cell_type": "code",
      "metadata": {
        "id": "-OFVF5U03kq5",
        "colab_type": "code",
        "colab": {}
      },
      "source": [
        "# row.names = 1 results in GeneIDs as rownames\n",
        "counts <- \"https://raw.githubusercontent.com/tgstoecker/teaching/master/AppliedBioinformatics/gene-level_ALL/total_file.count\"\n",
        "fc_res_all <- read.table(counts, header = T, row.names = 1)"
      ],
      "execution_count": 0,
      "outputs": []
    },
    {
      "cell_type": "markdown",
      "metadata": {
        "id": "Qf50bEEaXVdY",
        "colab_type": "text"
      },
      "source": [
        "Check the names of your columns:\n"
      ]
    },
    {
      "cell_type": "code",
      "metadata": {
        "id": "x_04zLeUTut4",
        "colab_type": "code",
        "colab": {}
      },
      "source": [
        "colnames(fc_res_all)"
      ],
      "execution_count": 0,
      "outputs": []
    },
    {
      "cell_type": "markdown",
      "metadata": {
        "id": "X3hqSVoiXXg-",
        "colab_type": "text"
      },
      "source": [
        "Shorten the column names indicating the samples - e.g.:\n"
      ]
    },
    {
      "cell_type": "code",
      "metadata": {
        "id": "onyRvR3PWSfB",
        "colab_type": "code",
        "colab": {}
      },
      "source": [
        "colnames(fc_res_all) <- sub(\"_trimmed_sorted.bam\", \"\", colnames(fc_res_all))"
      ],
      "execution_count": 0,
      "outputs": []
    },
    {
      "cell_type": "markdown",
      "metadata": {
        "id": "oHUedlLnXYMQ",
        "colab_type": "text"
      },
      "source": [
        "Create a vector indicating treatment conditions of the samples -  \n",
        "logic: columns left to right\n"
      ]
    },
    {
      "cell_type": "code",
      "metadata": {
        "id": "jrkCvF4qWSlX",
        "colab_type": "code",
        "colab": {}
      },
      "source": [
        "group_all = c(\"B73_control\", \"B73_control\", \"B73_control\", \"B73_control\", \"B73_drought\", \"B73_drought\", \"B73_drought\", \"B73_drought\",\n",
        "              \"Mo17_control\", \"Mo17_control\", \"Mo17_control\", \"Mo17_control\", \"Mo17_drought\", \"Mo17_drought\", \"Mo17_drought\", \"Mo17_drought\",\n",
        "              \"MxB_control\", \"MxB_control\", \"MxB_control\", \"MxB_control\", \"MxB_drought\", \"MxB_drought\", \"MxB_drought\", \"MxB_drought\",\n",
        "              \"BxM_control\", \"BxM_control\", \"BxM_control\", \"BxM_control\", \"BxM_drought\", \"BxM_drought\", \"BxM_drought\", \"BxM_drought\")\n",
        "group_all"
      ],
      "execution_count": 0,
      "outputs": []
    },
    {
      "cell_type": "markdown",
      "metadata": {
        "id": "sJ7lEvlVXYwH",
        "colab_type": "text"
      },
      "source": [
        "Create a DGE list object:"
      ]
    },
    {
      "cell_type": "code",
      "metadata": {
        "id": "PLd3O7e_WSqh",
        "colab_type": "code",
        "colab": {}
      },
      "source": [
        "#For our purposes the DGEList-object should contain matrixes/dataframes of raw counts, group/treatment info as well as gene names \n",
        "dge_all = DGEList(counts = fc_res_all[, 6:37], group = group_all, genes = rownames(fc_res_all))"
      ],
      "execution_count": 0,
      "outputs": []
    },
    {
      "cell_type": "markdown",
      "metadata": {
        "id": "5jaocozTXZaR",
        "colab_type": "text"
      },
      "source": [
        "Creating the design matrix:\n"
      ]
    },
    {
      "cell_type": "code",
      "metadata": {
        "id": "AL1r2SrdWSj3",
        "colab_type": "code",
        "colab": {}
      },
      "source": [
        "design_all <- model.matrix(~0+group_all)\n",
        "design_all"
      ],
      "execution_count": 0,
      "outputs": []
    },
    {
      "cell_type": "code",
      "metadata": {
        "id": "iK-EDlVcWdn-",
        "colab_type": "code",
        "colab": {}
      },
      "source": [
        "# check the column names - these should be your groups of interest\n",
        "colnames(design_all)\n",
        "#let's improve that a bit\n",
        "colnames(design_all) <- sub(\"group_all\", \"\", colnames(design_all))\n",
        "colnames(design_all)"
      ],
      "execution_count": 0,
      "outputs": []
    },
    {
      "cell_type": "markdown",
      "metadata": {
        "id": "qb5A-ONFXbjh",
        "colab_type": "text"
      },
      "source": [
        "Perform the filtering of the DGEList-object:\n"
      ]
    },
    {
      "cell_type": "code",
      "metadata": {
        "id": "NITOs8LjWdrR",
        "colab_type": "code",
        "colab": {}
      },
      "source": [
        "keep <- filterByExpr(dge_all, design_all)\n",
        "dge_all <- dge_all[keep, , keep.lib.sizes=FALSE]\n",
        "dim(dge_all)"
      ],
      "execution_count": 0,
      "outputs": []
    },
    {
      "cell_type": "markdown",
      "metadata": {
        "id": "Kfz8VYdnXc3J",
        "colab_type": "text"
      },
      "source": [
        "Perform normalization:"
      ]
    },
    {
      "cell_type": "code",
      "metadata": {
        "id": "l9Zzhq9lWdxd",
        "colab_type": "code",
        "colab": {}
      },
      "source": [
        "dge_all <- calcNormFactors(dge_all, method = \"TMM\")"
      ],
      "execution_count": 0,
      "outputs": []
    },
    {
      "cell_type": "markdown",
      "metadata": {
        "id": "6VNLfQEeXd7r",
        "colab_type": "text"
      },
      "source": [
        "##Quick foray back to MDS plots - this time in useful"
      ]
    },
    {
      "cell_type": "markdown",
      "metadata": {
        "id": "vdW8ltgjZldn",
        "colab_type": "text"
      },
      "source": [
        "Let's check out a MDS plot, since this time around the dataset is much more reasonable for such a visualization.  \n",
        "We should get a plot very similar to Figure 1A of the Hochholdinger publication - compare:"
      ]
    },
    {
      "cell_type": "code",
      "metadata": {
        "id": "poE778gqWnAo",
        "colab_type": "code",
        "colab": {}
      },
      "source": [
        "pch <- c(0, 3, 7, 11, 14, 17, 21, 25, 29, 33)\n",
        "colors <- rep(c(\"blue\", \"red\", \"green\", \"black\", \"violet\", \"yellow\", \"brown\", \"grey\"))\n",
        "plotMDS(dge_all, col = colors[dge_all$samples$group], pch = pch[dge_all$samples$group])\n",
        "legend(\"topright\", legend=levels(dge_all$samples$group), pch=pch, col=colors, ncol=1)"
      ],
      "execution_count": 0,
      "outputs": []
    },
    {
      "cell_type": "markdown",
      "metadata": {
        "id": "-pxPv-qCaW66",
        "colab_type": "text"
      },
      "source": [
        "##Venn diagrammes "
      ]
    },
    {
      "cell_type": "markdown",
      "metadata": {
        "id": "r_ShL2tWXfDZ",
        "colab_type": "text"
      },
      "source": [
        "Before we start we first choose a set of genes which pass an expression threshold (shown here is quick and dirty example good enough for demonstration purposes).\n"
      ]
    },
    {
      "cell_type": "markdown",
      "metadata": {
        "id": "ax6qc1MBbCle",
        "colab_type": "text"
      },
      "source": [
        "1. Manual transformation of our DGEList object into log scale CPM values\n"
      ]
    },
    {
      "cell_type": "code",
      "metadata": {
        "id": "3WeKgO4qWnGL",
        "colab_type": "code",
        "colab": {}
      },
      "source": [
        "lcpm <- cpm(dge_all, log=TRUE, normalized.lib.sizes =TRUE)"
      ],
      "execution_count": 0,
      "outputs": []
    },
    {
      "cell_type": "markdown",
      "metadata": {
        "id": "_9gDfL8ybJSB",
        "colab_type": "text"
      },
      "source": [
        "2. Let's create a reasonable lcpm cutoff\n"
      ]
    },
    {
      "cell_type": "code",
      "metadata": {
        "id": "o0fEjKkabKuD",
        "colab_type": "code",
        "colab": {}
      },
      "source": [
        "L <- mean(dge_all$samples$lib.size) * 1e-6\n",
        "M <- median(dge_all$samples$lib.size) * 1e-6\n",
        "c(L, M)\n",
        "lcpm.cutoff <- log2(10/M + 2/L)\n",
        "summary(lcpm)\n",
        "colnames(lcpm)"
      ],
      "execution_count": 0,
      "outputs": []
    },
    {
      "cell_type": "markdown",
      "metadata": {
        "id": "KQFMUknKXf8m",
        "colab_type": "text"
      },
      "source": [
        "3. For each of our 4 lines and conditions we now extract the corresponding columns, calculate means per row and retain those over the threshold -> also, check your colnames/the corresponding index number"
      ]
    },
    {
      "cell_type": "code",
      "metadata": {
        "id": "SB8vUoQiW8uG",
        "colab_type": "code",
        "colab": {}
      },
      "source": [
        "#control treatment data\n",
        "B73_set.control <- lcpm[, 1:4]\n",
        "B73_genes_ov_cutoff.control <- rownames(data.frame(subset(B73_set.control, rowMeans(B73_set.control) > lcpm.cutoff)))\n",
        "\n",
        "Mo17_set.control <- lcpm[, 9:12]\n",
        "Mo17_genes_ov_cutoff.control <- rownames(data.frame(subset(Mo17_set.control, rowMeans(Mo17_set.control) > lcpm.cutoff)))\n",
        "\n",
        "MxB_set.control <- lcpm[, 17:20]\n",
        "MxB_genes_ov_cutoff.control <- rownames(data.frame(subset(MxB_set.control, rowMeans(MxB_set.control) > lcpm.cutoff)))\n",
        "\n",
        "BxM_set.control <- lcpm[, 25:28]\n",
        "BxM_genes_ov_cutoff.control <- rownames(data.frame(subset(BxM_set.control, rowMeans(BxM_set.control) > lcpm.cutoff)))\n",
        "\n",
        "###\n",
        "##drought treatment data\n",
        "B73_set.drought <- lcpm[, 5:8]\n",
        "B73_genes_ov_cutoff.drought <- rownames(data.frame(subset(B73_set.drought, rowMeans(B73_set.drought) > lcpm.cutoff)))\n",
        "\n",
        "Mo17_set.drought <- lcpm[, 13:16]\n",
        "Mo17_genes_ov_cutoff.drought <- rownames(data.frame(subset(Mo17_set.drought, rowMeans(Mo17_set.drought) > lcpm.cutoff)))\n",
        "\n",
        "MxB_set.drought <- lcpm[, 21:24]\n",
        "MxB_genes_ov_cutoff.drought <- rownames(data.frame(subset(MxB_set.drought, rowMeans(MxB_set.drought) > lcpm.cutoff)))\n",
        "\n",
        "BxM_set.drought <- lcpm[, 29:32]\n",
        "BxM_genes_ov_cutoff.drought <- rownames(data.frame(subset(BxM_set.drought, rowMeans(BxM_set.drought) > lcpm.cutoff)))"
      ],
      "execution_count": 0,
      "outputs": []
    },
    {
      "cell_type": "markdown",
      "metadata": {
        "id": "yds88zD5YCuC",
        "colab_type": "text"
      },
      "source": [
        "*The final goal will be to create a four way venn diagramme of all expressed genes in the control samples*"
      ]
    },
    {
      "cell_type": "markdown",
      "metadata": {
        "id": "n5raoRLtbyyM",
        "colab_type": "text"
      },
      "source": [
        "But first let's draw venn diagram of the genes expressed in B73 control vs. B73 drought:"
      ]
    },
    {
      "cell_type": "code",
      "metadata": {
        "id": "QLhgClDzW9Vw",
        "colab_type": "code",
        "colab": {}
      },
      "source": [
        "# build the intersection\n",
        "B73_control_drought <- intersect(B73_genes_ov_cutoff.control, B73_genes_ov_cutoff.drought) # build the intersection\n",
        "draw.pairwise.venn(area1=length(B73_genes_ov_cutoff.control), area2=length(B73_genes_ov_cutoff.drought), cross.area=length(B73_control_drought))"
      ],
      "execution_count": 0,
      "outputs": []
    },
    {
      "cell_type": "code",
      "metadata": {
        "id": "hVZVq0PGW9Y8",
        "colab_type": "code",
        "colab": {}
      },
      "source": [
        "# draw venn diagram of the genes expressed in B73 control vs. Mo17 control\n",
        "# build the intersection\n",
        "B73_Mo17_control <- intersect(B73_genes_ov_cutoff.control, Mo17_genes_ov_cutoff.drought) \n",
        "draw.pairwise.venn(area1=length(B73_genes_ov_cutoff.control), area2=length(Mo17_genes_ov_cutoff.control), cross.area=length(B73_Mo17_control))"
      ],
      "execution_count": 0,
      "outputs": []
    },
    {
      "cell_type": "code",
      "metadata": {
        "id": "tqwf-dzlk6pN",
        "colab_type": "code",
        "colab": {}
      },
      "source": [
        "### Now we want to draw a FOUR way venn diagram of the control samples of all four genotypes\n",
        "# have a look at the command and options\n",
        "?draw.quad.venn\n",
        "\n",
        "\n",
        "#### Step 1: build pair wise intersections of the control samples ####\n",
        "B73_Mo17_intersect <- intersect(B73_genes_ov_cutoff.control, Mo17_genes_ov_cutoff.drought)\n",
        "\n",
        "\n",
        "\n",
        "#### add the commands to build the other 5 pair wise intersections of the control samples ####\n",
        "\n",
        "\n",
        "\n",
        "#### Step 2: build tripple intersections ####\n",
        "B73_Mo17_MxB_intersect <- intersect(B73_Mo17_intersect, MxB_genes_ov_cutoff.control)\n",
        "\n",
        "\n",
        "\n",
        "\n",
        "#### add the commands to build the other 3 tripple intersections of the control samples ####\n",
        "\n",
        "\n",
        "\n",
        "#### Step 4: Add the command to build the one four way intersection of the control samples ####\n",
        "\n",
        "#### use the 'draw.quad.venn' function from the 'VennDiagram' package to plot a four way venn diagram ####\n",
        "#### use the 'category' option to label the sets appropriately ####\n",
        "#### use the 'col' and/or 'fill' options to colour the sets ####\n",
        "draw.quad.venn()\n",
        "\n",
        "\n",
        "\n"
      ],
      "execution_count": 0,
      "outputs": []
    },
    {
      "cell_type": "markdown",
      "metadata": {
        "id": "n20ghAURcdJL",
        "colab_type": "text"
      },
      "source": [
        "#BONUS: "
      ]
    },
    {
      "cell_type": "markdown",
      "metadata": {
        "id": "vOIWxt51cZpT",
        "colab_type": "text"
      },
      "source": [
        "If you have time:\n",
        "1. Plot a 4 way venn diagramme for drought treatment  \n",
        "\n",
        "2. Use the 'union' function to generate a list of all gene expressed in any of the four samples  \n",
        "\n",
        "3. Use the 'setdiff' function to generate lists of the genes exclusively expressed in each sample:  \n",
        "- only B73  \n",
        "- only Mo17  \n",
        "- only MxB  \n",
        "- only BxM  "
      ]
    }
  ]
}