{
  "nbformat": 4,
  "nbformat_minor": 0,
  "metadata": {
    "colab": {
      "name": "preMapman2021.ipynb",
      "provenance": [],
      "collapsed_sections": [],
      "authorship_tag": "ABX9TyOjr/bxsG5MsPIoW6AcA1zf",
      "include_colab_link": true
    },
    "kernelspec": {
      "name": "ir",
      "display_name": "R"
    }
  },
  "cells": [
    {
      "cell_type": "markdown",
      "metadata": {
        "id": "view-in-github",
        "colab_type": "text"
      },
      "source": [
        "<a href=\"https://colab.research.google.com/github/tgstoecker/teaching/blob/master/AppliedBioinformatics/Notebooks/preMapman2021.ipynb\" target=\"_parent\"><img src=\"https://colab.research.google.com/assets/colab-badge.svg\" alt=\"Open In Colab\"/></a>"
      ]
    },
    {
      "cell_type": "code",
      "metadata": {
        "id": "tqwf-dzlk6pN"
      },
      "source": [
        "R.Version()\n",
        "\n",
        "install.packages(\"BiocManager\", verbose = TRUE)\n",
        "BiocManager::install(ask = FALSE)\n",
        "BiocManager::install(\"limma\")\n",
        "BiocManager::install(\"edgeR\")\n",
        "\n",
        "install.packages(\"reshape2\", verbose = TRUE)\n",
        "install.packages(\"statmod\", verbose = TRUE)"
      ],
      "execution_count": null,
      "outputs": []
    },
    {
      "cell_type": "code",
      "metadata": {
        "id": "QLcg3kWtfPOB"
      },
      "source": [
        "## load all required packages\n",
        "library(reshape2)\n",
        "library(statmod)\n",
        "library(limma)\n",
        "library(edgeR)"
      ],
      "execution_count": null,
      "outputs": []
    },
    {
      "cell_type": "code",
      "metadata": {
        "id": "QWW5D8UGfPSx"
      },
      "source": [
        "##Let's create the input file for MapMan we are going to use later - pathway visualization and inspection:\n",
        "#We quickly go through the edgeR workflow with the transcript level data \n",
        "\n",
        "# read in the results - the TRANSCRIPT!! count matrix you generated using featureCounts; adapt the file path to your directory structure\n",
        "# row.names = 1 results in TranscriptIDs as rownames\n",
        "counts <- \"https://raw.githubusercontent.com/tgstoecker/teaching/master/AppliedBioinformatics/B73/transcript-level/total_file.count\"\n",
        "fc_res_transcripts <- read.table(counts, header = T, row.names = 1)"
      ],
      "execution_count": null,
      "outputs": []
    },
    {
      "cell_type": "code",
      "metadata": {
        "id": "Z81cyMoygEaq"
      },
      "source": [
        "# shorten the column names indicating the samples - e.g.:\n",
        "colnames(fc_res_transcripts) <- sub(\"_trimmed_sorted.bam\", \"\", colnames(fc_res_transcripts))"
      ],
      "execution_count": null,
      "outputs": []
    },
    {
      "cell_type": "code",
      "metadata": {
        "id": "E4M-2O8LfPZY"
      },
      "source": [
        "# shorten the column names indicating the samples - e.g.:\n",
        "colnames(fc_res_transcripts) <- sub(\"_trimmed_sorted.bam\", \"\", colnames(fc_res_transcripts))\n",
        "\n",
        "# create a vector indicating treatment conditions of the samples - logic: columns left to right\n",
        "group = c(\"control\", \"control\", \"control\", \"control\", \"drought\", \"drought\", \"drought\", \"drought\")\n",
        "\n",
        "# create a DGE list object\n",
        "dge = DGEList(counts = fc_res_transcripts[, 6:13], group = group, genes = rownames(fc_res_transcripts))\n",
        "\n",
        "#Create design model\n",
        "design <- model.matrix(~0+group)\n",
        "\n",
        "#Perform the filtering\n",
        "keep <- filterByExpr(dge, design)\n",
        "dge_filtered <- dge[keep, , keep.lib.sizes=FALSE]\n",
        "\n",
        "#Perform normalization\n",
        "dge_normalized <- calcNormFactors(dge_filtered, method = \"TMM\")\n",
        "\n",
        "#Perform dispersion estimation\n",
        "dge_disp <- estimateDisp(dge_normalized, design, robust=TRUE)\n",
        "\n",
        "#Estimation of QL dispersions\n",
        "fit <- glmQLFit(dge_disp, design, robust=TRUE)\n",
        "\n",
        "#Create contrasts\n",
        "CvsD <- makeContrasts(groupdrought-groupcontrol, levels=design)\n",
        "\n",
        "#Perform test\n",
        "res <- glmQLFTest(fit, contrast=CvsD)\n",
        "\n",
        "##Please feel free to investigate the transcript level data\n",
        "\n",
        "#The first thing to check is whether or not our data contains infinite fold changes.\n",
        "#This shouldn't be the case because of the way edgeR works - however this is an important detail to keep in mind as MapMan doesn't know what to do with them.\n",
        "#In other pipelines it might be necessary to transform infinite values to a common number.\n",
        "\n",
        "#Create an easy to view intermediate file - then inspect it (infinite fold changes?)\n",
        "MapMan_check <- topTags(res, adjust.method = \"BH\", n = \"all\")\n",
        "#View(MapMan_check$table)\n",
        "\n",
        "#Create a subset containing only three columns: Gene ID, log2 fold change and q-value/FDR correction;\n",
        "#while we're at it, let's keep the column names simple\n",
        "MapMan_input_B73 <- data.frame(MapMan_check$table$genes, MapMan_check$table$logFC, MapMan_check$table$FDR)\n",
        "colnames(MapMan_input_B73) <- c(\"transcript_id\", \"log2_fold_change\", \"q_value\")"
      ],
      "execution_count": null,
      "outputs": []
    },
    {
      "cell_type": "code",
      "metadata": {
        "id": "dcA1mIrUj8-q"
      },
      "source": [
        "#Write the data to a file - check and choose your working directory and file names - this file will be our input for MapMan\n",
        "write.table(MapMan_input_B73[,c(\"transcript_id\", \"log2_fold_change\", \"q_value\")], file=\"/b73_mapman.txt\", sep=\"\\t\", col.names = T, row.names = F)"
      ],
      "execution_count": null,
      "outputs": []
    }
  ]
}